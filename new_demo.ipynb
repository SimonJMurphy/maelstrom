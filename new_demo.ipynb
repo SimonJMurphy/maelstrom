{
 "cells": [
  {
   "cell_type": "code",
   "execution_count": 1,
   "metadata": {
    "collapsed": true
   },
   "outputs": [],
   "source": [
    "%matplotlib inline\n",
    "%config IPython.matplotlib.backend = \"retina\"\n",
    "from matplotlib import rcParams\n",
    "rcParams[\"figure.dpi\"] = 150\n",
    "rcParams[\"savefig.dpi\"] = 150"
   ]
  },
  {
   "cell_type": "code",
   "execution_count": 2,
   "metadata": {},
   "outputs": [
    {
     "name": "stderr",
     "output_type": "stream",
     "text": [
      "/Users/dforeman/anaconda/lib/python3.6/importlib/_bootstrap.py:205: RuntimeWarning: compiletime version 3.5 of module 'tensorflow.python.framework.fast_tensor_util' does not match runtime version 3.6\n",
      "  return f(*args, **kwds)\n"
     ]
    }
   ],
   "source": [
    "import numpy as np\n",
    "import pandas as pd\n",
    "import tensorflow as tf\n",
    "import matplotlib.pyplot as plt\n",
    "\n",
    "from maelstrom.maelstrom import Maelstrom"
   ]
  },
  {
   "cell_type": "code",
   "execution_count": 3,
   "metadata": {
    "collapsed": true
   },
   "outputs": [],
   "source": [
    "kicid = 6862920\n",
    "\n",
    "data = np.loadtxt(\"data/kic{0}_lc.txt\".format(kicid))\n",
    "fulltimes = data[:, 0] # days\n",
    "tmid = 0.5*(fulltimes[0] + fulltimes[-1])\n",
    "times = fulltimes - tmid\n",
    "dmmags = data[:, 1] * 1000. # mmags\n",
    "\n",
    "# times = times[2500:]\n",
    "# dmmags = dmmags[2500:]\n",
    "\n",
    "metadata = np.loadtxt(\"data/kic{0}_metadata.csv\".format(kicid), delimiter=\",\", skiprows=1)\n",
    "nu_arr = metadata[::6]\n",
    "\n",
    "orbits = pd.read_csv(\"data/orbits.csv\").rename(columns = lambda x: x.strip())\n",
    "\n",
    "orb_params = orbits[orbits.Name == \"kic{0}\".format(kicid)].iloc[0]\n",
    "porb = orb_params.Porb\n",
    "a1 = orb_params[\"a1sini/c\"]\n",
    "tp = orb_params[\"t_p\"] - tmid\n",
    "e = orb_params[\"e\"]\n",
    "varpi = orb_params[\"varpi\"]\n",
    "a1d = a1/86400.0"
   ]
  },
  {
   "cell_type": "code",
   "execution_count": 4,
   "metadata": {},
   "outputs": [],
   "source": [
    "model = Maelstrom(times, dmmags, nu_arr)\n",
    "model.init_from_orbit(period=porb, lighttime=a1d, tref=tp, eccen=e, varpi=varpi)"
   ]
  },
  {
   "cell_type": "code",
   "execution_count": 7,
   "metadata": {},
   "outputs": [
    {
     "data": {
      "text/plain": [
       "[-305.12995059400606,\n",
       " array([ -3.49644400e+03,  -1.47976988e+04,   3.74711556e+05,\n",
       "          3.92404577e+03,   2.56623154e+04,   4.07984930e+04,\n",
       "          1.61359547e+05,   5.58347991e+03,  -1.43111256e+03,\n",
       "          3.42288030e+00])]"
      ]
     },
     "execution_count": 7,
     "metadata": {},
     "output_type": "execute_result"
    }
   ],
   "source": [
    "model.get_session().run(tf.gradients(model.chi2, [model.period, model.lighttime]))"
   ]
  },
  {
   "cell_type": "code",
   "execution_count": null,
   "metadata": {
    "collapsed": true
   },
   "outputs": [],
   "source": []
  }
 ],
 "metadata": {
  "kernelspec": {
   "display_name": "Python 3",
   "language": "python",
   "name": "python3"
  },
  "language_info": {
   "codemirror_mode": {
    "name": "ipython",
    "version": 3
   },
   "file_extension": ".py",
   "mimetype": "text/x-python",
   "name": "python",
   "nbconvert_exporter": "python",
   "pygments_lexer": "ipython3",
   "version": "3.6.1"
  }
 },
 "nbformat": 4,
 "nbformat_minor": 2
}
