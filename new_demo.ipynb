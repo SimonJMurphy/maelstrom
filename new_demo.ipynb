{
 "cells": [
  {
   "cell_type": "code",
   "execution_count": 1,
   "metadata": {
    "collapsed": true
   },
   "outputs": [],
   "source": [
    "%matplotlib inline\n",
    "%config IPython.matplotlib.backend = \"retina\"\n",
    "from matplotlib import rcParams\n",
    "rcParams[\"figure.dpi\"] = 150\n",
    "rcParams[\"savefig.dpi\"] = 150"
   ]
  },
  {
   "cell_type": "code",
   "execution_count": 2,
   "metadata": {},
   "outputs": [
    {
     "name": "stderr",
     "output_type": "stream",
     "text": [
      "/Users/sjm/anaconda3/lib/python3.6/importlib/_bootstrap.py:219: RuntimeWarning: compiletime version 3.5 of module 'tensorflow.python.framework.fast_tensor_util' does not match runtime version 3.6\n",
      "  return f(*args, **kwds)\n"
     ]
    }
   ],
   "source": [
    "import numpy as np\n",
    "import pandas as pd\n",
    "import tensorflow as tf\n",
    "import matplotlib.pyplot as plt\n",
    "from astropy.stats import LombScargle\n",
    "\n",
    "from maelstrom.maelstrom import Maelstrom\n",
    "from maelstrom.estimator import estimate_frequencies"
   ]
  },
  {
   "cell_type": "code",
   "execution_count": 23,
   "metadata": {
    "collapsed": true
   },
   "outputs": [],
   "source": [
    "kicid = 11754974\n",
    "# kicid = 9837267\n",
    "\n",
    "data = np.loadtxt(\"data/kic{0}_lc.txt\".format(kicid))\n",
    "fulltimes = data[:, 0] # days\n",
    "tmid = 0.5*(fulltimes[0] + fulltimes[-1])\n",
    "times = fulltimes - tmid\n",
    "dmmags = data[:, 1] * 1000. # mmags\n",
    "\n",
    "# times = times[2500:]\n",
    "# dmmags = dmmags[2500:]\n",
    "\n",
    "metadata = np.loadtxt(\"data/kic{0}_metadata.csv\".format(kicid), delimiter=\",\", skiprows=1)\n",
    "nu_arr = metadata[::6]\n",
    "\n",
    "orbits = pd.read_csv(\"data/orbits.csv\").rename(columns = lambda x: x.strip())\n",
    "\n",
    "orb_params = orbits[orbits.Name == \"kic{0}\".format(kicid)].iloc[0]\n",
    "porb = orb_params.Porb\n",
    "a1 = orb_params[\"a1sini/c\"]\n",
    "tp = orb_params[\"t_p\"] - tmid\n",
    "e = orb_params[\"e\"]\n",
    "varpi = orb_params[\"varpi\"]\n",
    "a1d = a1/86400.0"
   ]
  },
  {
   "cell_type": "code",
   "execution_count": null,
   "metadata": {
    "collapsed": true
   },
   "outputs": [],
   "source": []
  },
  {
   "cell_type": "code",
   "execution_count": 25,
   "metadata": {
    "collapsed": true
   },
   "outputs": [],
   "source": [
    "model = Maelstrom(times, dmmags, nu_arr)\n",
    "model.init_from_orbit(period=porb, lighttime=a1d, tref=tp, eccen=e, varpi=varpi)"
   ]
  },
  {
   "cell_type": "code",
   "execution_count": 26,
   "metadata": {},
   "outputs": [
    {
     "data": {
      "text/plain": [
       "4934940.6300498974"
      ]
     },
     "execution_count": 26,
     "metadata": {},
     "output_type": "execute_result"
    }
   ],
   "source": [
    "model.get_session().run(model.chi2)"
   ]
  },
  {
   "cell_type": "code",
   "execution_count": 27,
   "metadata": {},
   "outputs": [
    {
     "name": "stdout",
     "output_type": "stream",
     "text": [
      "INFO:tensorflow:Optimization terminated with:\n",
      "  Message: b'CONVERGENCE: REL_REDUCTION_OF_F_<=_FACTR*EPSMCH'\n",
      "  Objective function value: 4889684.431596\n",
      "  Number of iterations: 9\n",
      "  Number of functions evaluations: 16\n"
     ]
    }
   ],
   "source": [
    "model.optimize([model.nu])"
   ]
  },
  {
   "cell_type": "code",
   "execution_count": 28,
   "metadata": {},
   "outputs": [
    {
     "name": "stdout",
     "output_type": "stream",
     "text": [
      "INFO:tensorflow:Optimization terminated with:\n",
      "  Message: b'CONVERGENCE: REL_REDUCTION_OF_F_<=_FACTR*EPSMCH'\n",
      "  Objective function value: 4889667.160893\n",
      "  Number of iterations: 2\n",
      "  Number of functions evaluations: 5\n"
     ]
    }
   ],
   "source": [
    "model.optimize([model.period, model.tref])"
   ]
  },
  {
   "cell_type": "code",
   "execution_count": 29,
   "metadata": {},
   "outputs": [
    {
     "name": "stdout",
     "output_type": "stream",
     "text": [
      "INFO:tensorflow:Optimization terminated with:\n",
      "  Message: b'CONVERGENCE: REL_REDUCTION_OF_F_<=_FACTR*EPSMCH'\n",
      "  Objective function value: 4889593.095279\n",
      "  Number of iterations: 5\n",
      "  Number of functions evaluations: 8\n"
     ]
    }
   ],
   "source": [
    "model.optimize([model.period, model.tref, model.lighttime])"
   ]
  },
  {
   "cell_type": "code",
   "execution_count": 30,
   "metadata": {},
   "outputs": [
    {
     "data": {
      "text/plain": [
       "[array([ 0.00151217,  0.00147329]),\n",
       " array([  4.00492869e+11,   3.09504063e+10])]"
      ]
     },
     "execution_count": 30,
     "metadata": {},
     "output_type": "execute_result"
    }
   ],
   "source": [
    "model.get_lighttime_estimates()"
   ]
  },
  {
   "cell_type": "code",
   "execution_count": 31,
   "metadata": {},
   "outputs": [
    {
     "data": {
      "text/plain": [
       "(array([0, 0], dtype=int32), array([ 0.00150938]))"
      ]
     },
     "execution_count": 31,
     "metadata": {},
     "output_type": "execute_result"
    }
   ],
   "source": [
    "model.pin_lighttime_values()"
   ]
  },
  {
   "cell_type": "code",
   "execution_count": 32,
   "metadata": {
    "scrolled": false
   },
   "outputs": [
    {
     "data": {
      "text/plain": [
       "[array([ 0.00150938,  0.00150938]),\n",
       " array([  4.00492631e+11,   3.09494374e+10])]"
      ]
     },
     "execution_count": 32,
     "metadata": {},
     "output_type": "execute_result"
    }
   ],
   "source": [
    "model.get_lighttime_estimates()"
   ]
  },
  {
   "cell_type": "code",
   "execution_count": 33,
   "metadata": {},
   "outputs": [
    {
     "name": "stdout",
     "output_type": "stream",
     "text": [
      "INFO:tensorflow:Optimization terminated with:\n",
      "  Message: b'CONVERGENCE: REL_REDUCTION_OF_F_<=_FACTR*EPSMCH'\n",
      "  Objective function value: 4889595.449878\n",
      "  Number of iterations: 14\n",
      "  Number of functions evaluations: 17\n"
     ]
    }
   ],
   "source": [
    "model.optimize([model.eccen_param, model.varpi])"
   ]
  },
  {
   "cell_type": "code",
   "execution_count": 34,
   "metadata": {},
   "outputs": [
    {
     "name": "stdout",
     "output_type": "stream",
     "text": [
      "INFO:tensorflow:Optimization terminated with:\n",
      "  Message: b'CONVERGENCE: REL_REDUCTION_OF_F_<=_FACTR*EPSMCH'\n",
      "  Objective function value: 282509.667916\n",
      "  Number of iterations: 21\n",
      "  Number of functions evaluations: 29\n"
     ]
    }
   ],
   "source": [
    "model.optimize([model.period, model.log_sigma2, model.tref, model.lighttime, model.eccen_param, model.varpi])"
   ]
  },
  {
   "cell_type": "code",
   "execution_count": 35,
   "metadata": {},
   "outputs": [
    {
     "name": "stdout",
     "output_type": "stream",
     "text": [
      "INFO:tensorflow:Optimization terminated with:\n",
      "  Message: b'CONVERGENCE: REL_REDUCTION_OF_F_<=_FACTR*EPSMCH'\n",
      "  Objective function value: 282509.663836\n",
      "  Number of iterations: 2\n",
      "  Number of functions evaluations: 6\n"
     ]
    }
   ],
   "source": [
    "model.optimize([model.nu])"
   ]
  },
  {
   "cell_type": "code",
   "execution_count": 36,
   "metadata": {},
   "outputs": [
    {
     "data": {
      "text/plain": [
       "array([  9.73600124e-06,   1.28748290e-05])"
      ]
     },
     "execution_count": 36,
     "metadata": {},
     "output_type": "execute_result"
    }
   ],
   "source": [
    "model.nu_data - model.get_session().run(model.nu)"
   ]
  },
  {
   "cell_type": "code",
   "execution_count": 37,
   "metadata": {},
   "outputs": [
    {
     "data": {
      "image/png": "[encoded data removed]",
      "text/plain": [
       "<matplotlib.figure.Figure at 0x182ef3f438>"
      ]
     },
     "metadata": {},
     "output_type": "display_data"
    }
   ],
   "source": [
    "plt.plot(times, model.run(model.psi), \".k\", ms=1)\n",
    "plt.ylabel(\"$\\psi(t)$\")\n",
    "plt.xlabel(\"$t$\");"
   ]
  },
  {
   "cell_type": "code",
   "execution_count": 38,
   "metadata": {},
   "outputs": [
    {
     "data": {
      "image/png": "[encoded data removed]",
      "text/plain": [
       "<matplotlib.figure.Figure at 0x10a1a25c0>"
      ]
     },
     "metadata": {},
     "output_type": "display_data"
    }
   ],
   "source": [
    "plt.plot(times, model.run(model.tau), \".\", ms=1)\n",
    "plt.ylabel(r\"$\\tau(t)$\")\n",
    "plt.xlabel(\"$t$\");"
   ]
  },
  {
   "cell_type": "code",
   "execution_count": 39,
   "metadata": {},
   "outputs": [
    {
     "data": {
      "text/plain": [
       "<matplotlib.text.Text at 0x1c34a514a8>"
      ]
     },
     "execution_count": 39,
     "metadata": {},
     "output_type": "execute_result"
    },
    {
     "data": {
      "image/png": "[encoded data removed]",
      "text/plain": [
       "<matplotlib.figure.Figure at 0x182f04a8d0>"
      ]
     },
     "metadata": {},
     "output_type": "display_data"
    }
   ],
   "source": [
    "lt, lt_ivar = model.get_lighttime_estimates()\n",
    "lt_err = np.sqrt(1./lt_ivar)\n",
    "nu = model.run(model.nu)\n",
    "plt.errorbar(nu, lt, yerr=lt_err, fmt=\"k.\")\n",
    "# plt.ylim(-0.01, 0.01)\n",
    "plt.xlabel(r\"$\\nu$\")"
   ]
  },
  {
   "cell_type": "code",
   "execution_count": 40,
   "metadata": {},
   "outputs": [
    {
     "data": {
      "text/plain": [
       "[343.34996668553151,\n",
       " 0.0055353191594573331,\n",
       " array([ 130.50664964,    0.        ])]"
      ]
     },
     "execution_count": 40,
     "metadata": {},
     "output_type": "execute_result"
    }
   ],
   "source": [
    "model.run([model.period, model.eccen, model.lighttime*86400.0])"
   ]
  },
  {
   "cell_type": "code",
   "execution_count": 41,
   "metadata": {},
   "outputs": [
    {
     "data": {
      "text/plain": [
       "Name                   kic11754974\n",
       "Porb                       343.242\n",
       "Porb_sig_p                0.500622\n",
       "Porb_sig_m                0.497353\n",
       "a1sini/c                   131.138\n",
       "a1sini/c_sig_p             1.17293\n",
       "a1sini/c_sig_m             1.18227\n",
       "e                         0.018982\n",
       "e_sig_p                   0.017421\n",
       "e_sig_m                   0.011861\n",
       "phip                      0.451625\n",
       "phip_sig_p                0.132112\n",
       "phip_sig_m                0.276224\n",
       "varpi                     0.737616\n",
       "varpi_sig_p               0.844385\n",
       "varpi_sig_m                1.75724\n",
       "f(M)Msun                 0.0205526\n",
       "f(M)Msun_sig_p           0.0005547\n",
       "f(M)Msun_sig_m           0.0005591\n",
       "gradient                 -0.009368\n",
       "grad_sig_p                0.002241\n",
       "grad_sig_m                0.002392\n",
       "t_p                        55113.4\n",
       "t_p_sig_p                  45.3491\n",
       "t_p_sig_m                  94.8129\n",
       "K1_ms                       8328.6\n",
       "K1_ms_sig_p                   48.6\n",
       "K1_ms_sig_m                     46\n",
       "median_segment_size            NaN\n",
       "Name: 34, dtype: object"
      ]
     },
     "execution_count": 41,
     "metadata": {},
     "output_type": "execute_result"
    }
   ],
   "source": [
    "orb_params"
   ]
  },
  {
   "cell_type": "code",
   "execution_count": null,
   "metadata": {
    "collapsed": true
   },
   "outputs": [],
   "source": []
  }
 ],
 "metadata": {
  "kernelspec": {
   "display_name": "Python 3",
   "language": "python",
   "name": "python3"
  },
  "language_info": {
   "codemirror_mode": {
    "name": "ipython",
    "version": 3
   },
   "file_extension": ".py",
   "mimetype": "text/x-python",
   "name": "python",
   "nbconvert_exporter": "python",
   "pygments_lexer": "ipython3",
   "version": "3.6.3"
  }
 },
 "nbformat": 4,
 "nbformat_minor": 2
}
