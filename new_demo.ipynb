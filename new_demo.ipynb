{
 "cells": [
  {
   "cell_type": "code",
   "execution_count": 1,
   "metadata": {
    "collapsed": true
   },
   "outputs": [],
   "source": [
    "%matplotlib inline\n",
    "%config IPython.matplotlib.backend = \"retina\"\n",
    "from matplotlib import rcParams\n",
    "rcParams[\"figure.dpi\"] = 150\n",
    "rcParams[\"savefig.dpi\"] = 150"
   ]
  },
  {
   "cell_type": "code",
   "execution_count": 2,
   "metadata": {},
   "outputs": [
    {
     "name": "stderr",
     "output_type": "stream",
     "text": [
      "/Users/dforeman/anaconda/lib/python3.6/importlib/_bootstrap.py:205: RuntimeWarning: compiletime version 3.5 of module 'tensorflow.python.framework.fast_tensor_util' does not match runtime version 3.6\n",
      "  return f(*args, **kwds)\n"
     ]
    }
   ],
   "source": [
    "import numpy as np\n",
    "import pandas as pd\n",
    "import tensorflow as tf\n",
    "import matplotlib.pyplot as plt\n",
    "from astropy.stats import LombScargle\n",
    "\n",
    "from maelstrom.maelstrom import Maelstrom"
   ]
  },
  {
   "cell_type": "code",
   "execution_count": 3,
   "metadata": {
    "collapsed": true
   },
   "outputs": [],
   "source": [
    "# kicid = 6862920\n",
    "kicid = 11754974\n",
    "\n",
    "data = np.loadtxt(\"data/kic{0}_lc.txt\".format(kicid))\n",
    "fulltimes = data[:, 0] # days\n",
    "tmid = 0.5*(fulltimes[0] + fulltimes[-1])\n",
    "times = fulltimes - tmid\n",
    "dmmags = data[:, 1] * 1000. # mmags\n",
    "\n",
    "# times = times[2500:]\n",
    "# dmmags = dmmags[2500:]\n",
    "\n",
    "metadata = np.loadtxt(\"data/kic{0}_metadata.csv\".format(kicid), delimiter=\",\", skiprows=1)\n",
    "nu_arr = metadata[::6]\n",
    "\n",
    "orbits = pd.read_csv(\"data/orbits.csv\").rename(columns = lambda x: x.strip())\n",
    "\n",
    "orb_params = orbits[orbits.Name == \"kic{0}\".format(kicid)].iloc[0]\n",
    "porb = orb_params.Porb\n",
    "a1 = orb_params[\"a1sini/c\"]\n",
    "tp = orb_params[\"t_p\"] - tmid\n",
    "e = orb_params[\"e\"]\n",
    "varpi = orb_params[\"varpi\"]\n",
    "a1d = a1/86400.0"
   ]
  },
  {
   "cell_type": "code",
   "execution_count": 4,
   "metadata": {},
   "outputs": [
    {
     "name": "stdout",
     "output_type": "stream",
     "text": [
      "0.000740412792774 (66097,)\n"
     ]
    }
   ],
   "source": [
    "tmax = times.max()\n",
    "tmin = times.min()\n",
    "dt = np.median(np.diff(times))\n",
    "df = 1.0 / (tmax - tmin)\n",
    "ny = 0.5 / dt\n",
    "\n",
    "freq = np.arange(df, 2 * ny, df)\n",
    "print(df, freq.shape)\n",
    "power = LombScargle(times, dmmags).power(freq)"
   ]
  },
  {
   "cell_type": "code",
   "execution_count": 5,
   "metadata": {},
   "outputs": [
    {
     "data": {
      "text/plain": [
       "array([[  1.63446124e+01,   7.76059010e-01],\n",
       "       [  2.13986701e+01,   1.86467658e-02]])"
      ]
     },
     "execution_count": 5,
     "metadata": {},
     "output_type": "execute_result"
    }
   ],
   "source": [
    "# Find and fit peaks\n",
    "max_peaks = len(nu_arr)\n",
    "peak_inds = (power[1:-1] > power[:-2]) & (power[1:-1] > power[2:])\n",
    "peak_inds = np.arange(1, len(power)-1)[peak_inds]\n",
    "peak_inds = peak_inds[np.argsort(power[peak_inds])][::-1]\n",
    "peaks = []\n",
    "for j in range(max_peaks):\n",
    "    i = peak_inds[0]\n",
    "    freq0 = freq[i]\n",
    "    alias = 2.0*ny - freq0\n",
    "    \n",
    "    m = np.abs(freq[peak_inds] - alias) > 10*df\n",
    "    m &= np.abs(freq[peak_inds] - freq0) > 10*df\n",
    "\n",
    "    peak_inds = peak_inds[m]\n",
    "    peaks.append((freq0, power[i]))\n",
    "\n",
    "peaks = np.array(peaks)\n",
    "peaks"
   ]
  },
  {
   "cell_type": "code",
   "execution_count": 6,
   "metadata": {},
   "outputs": [
    {
     "data": {
      "text/plain": [
       "array([ 16.34475466,  21.39900267])"
      ]
     },
     "execution_count": 6,
     "metadata": {},
     "output_type": "execute_result"
    }
   ],
   "source": [
    "nu_arr"
   ]
  },
  {
   "cell_type": "code",
   "execution_count": 8,
   "metadata": {},
   "outputs": [
    {
     "data": {
      "text/plain": [
       "(array([ 0.00014226,  0.00033254]), array([ 0.00014226,  0.00033254]))"
      ]
     },
     "execution_count": 8,
     "metadata": {},
     "output_type": "execute_result"
    }
   ],
   "source": [
    "delta = np.abs(nu_arr[:, None] - peaks[:, 0][None, :])\n",
    "np.min(delta, axis=0), np.min(delta, axis=1)"
   ]
  },
  {
   "cell_type": "code",
   "execution_count": 9,
   "metadata": {},
   "outputs": [
    {
     "data": {
      "image/png": "[encoded data removed]",
      "text/plain": [
       "<matplotlib.figure.Figure at 0x18280c9748>"
      ]
     },
     "metadata": {},
     "output_type": "display_data"
    }
   ],
   "source": [
    "plt.plot(freq, power)\n",
    "plt.plot(peaks[:, 0], peaks[:, 1], \".r\")\n",
    "for n in nu_arr:\n",
    "    plt.axvline(n, color=\"k\", alpha=0.1)\n",
    "# plt.xlim(df, ny)\n",
    "# plt.yscale(\"log\")"
   ]
  },
  {
   "cell_type": "code",
   "execution_count": null,
   "metadata": {},
   "outputs": [],
   "source": []
  },
  {
   "cell_type": "code",
   "execution_count": 66,
   "metadata": {
    "collapsed": true
   },
   "outputs": [],
   "source": [
    "model = Maelstrom(times, dmmags, peaks[:, 0])\n",
    "model.init_from_orbit(period=porb, lighttime=a1d, tref=tp, eccen=0.1)\n",
    "                      # eccen=e, varpi=varpi)"
   ]
  },
  {
   "cell_type": "code",
   "execution_count": 67,
   "metadata": {},
   "outputs": [
    {
     "data": {
      "text/plain": [
       "13961123.317470197"
      ]
     },
     "execution_count": 67,
     "metadata": {},
     "output_type": "execute_result"
    }
   ],
   "source": [
    "model.get_session().run(model.chi2)"
   ]
  },
  {
   "cell_type": "code",
   "execution_count": 68,
   "metadata": {},
   "outputs": [
    {
     "name": "stdout",
     "output_type": "stream",
     "text": [
      "INFO:tensorflow:Optimization terminated with:\n",
      "  Message: b'CONVERGENCE: REL_REDUCTION_OF_F_<=_FACTR*EPSMCH'\n",
      "  Objective function value: 5263390.957536\n",
      "  Number of iterations: 9\n",
      "  Number of functions evaluations: 19\n"
     ]
    }
   ],
   "source": [
    "model.optimize([model.nu])"
   ]
  },
  {
   "cell_type": "code",
   "execution_count": 69,
   "metadata": {},
   "outputs": [
    {
     "name": "stdout",
     "output_type": "stream",
     "text": [
      "INFO:tensorflow:Optimization terminated with:\n",
      "  Message: b'CONVERGENCE: REL_REDUCTION_OF_F_<=_FACTR*EPSMCH'\n",
      "  Objective function value: 4894542.361971\n",
      "  Number of iterations: 8\n",
      "  Number of functions evaluations: 11\n"
     ]
    }
   ],
   "source": [
    "model.optimize([model.period, model.tref])"
   ]
  },
  {
   "cell_type": "code",
   "execution_count": 70,
   "metadata": {},
   "outputs": [
    {
     "name": "stdout",
     "output_type": "stream",
     "text": [
      "INFO:tensorflow:Optimization terminated with:\n",
      "  Message: b'CONVERGENCE: REL_REDUCTION_OF_F_<=_FACTR*EPSMCH'\n",
      "  Objective function value: 4894495.047092\n",
      "  Number of iterations: 6\n",
      "  Number of functions evaluations: 9\n"
     ]
    }
   ],
   "source": [
    "model.optimize([model.period, model.tref, model.lighttime])"
   ]
  },
  {
   "cell_type": "code",
   "execution_count": 71,
   "metadata": {},
   "outputs": [
    {
     "data": {
      "text/plain": [
       "[array([ 0.00152462,  0.0014874 ]),\n",
       " array([  4.02889588e+11,   3.11238803e+10])]"
      ]
     },
     "execution_count": 71,
     "metadata": {},
     "output_type": "execute_result"
    }
   ],
   "source": [
    "model.get_lighttime_estimates()"
   ]
  },
  {
   "cell_type": "code",
   "execution_count": 72,
   "metadata": {},
   "outputs": [
    {
     "data": {
      "text/plain": [
       "(array([0, 0], dtype=int32), array([ 0.00152195]))"
      ]
     },
     "execution_count": 72,
     "metadata": {},
     "output_type": "execute_result"
    }
   ],
   "source": [
    "model.pin_lighttime_values()"
   ]
  },
  {
   "cell_type": "code",
   "execution_count": 73,
   "metadata": {
    "scrolled": false
   },
   "outputs": [
    {
     "data": {
      "text/plain": [
       "[array([ 0.00152195,  0.00152195]),\n",
       " array([  4.02889337e+11,   3.11230092e+10])]"
      ]
     },
     "execution_count": 73,
     "metadata": {},
     "output_type": "execute_result"
    }
   ],
   "source": [
    "model.get_lighttime_estimates()"
   ]
  },
  {
   "cell_type": "code",
   "execution_count": 85,
   "metadata": {},
   "outputs": [
    {
     "name": "stdout",
     "output_type": "stream",
     "text": [
      "INFO:tensorflow:Optimization terminated with:\n",
      "  Message: b'CONVERGENCE: REL_REDUCTION_OF_F_<=_FACTR*EPSMCH'\n",
      "  Objective function value: 4889629.697930\n",
      "  Number of iterations: 2\n",
      "  Number of functions evaluations: 5\n"
     ]
    }
   ],
   "source": [
    "model.optimize([model.eccen_param, model.varpi])"
   ]
  },
  {
   "cell_type": "code",
   "execution_count": 86,
   "metadata": {},
   "outputs": [
    {
     "name": "stdout",
     "output_type": "stream",
     "text": [
      "INFO:tensorflow:Optimization terminated with:\n",
      "  Message: b'CONVERGENCE: REL_REDUCTION_OF_F_<=_FACTR*EPSMCH'\n",
      "  Objective function value: 282509.518911\n",
      "  Number of iterations: 21\n",
      "  Number of functions evaluations: 32\n"
     ]
    }
   ],
   "source": [
    "model.optimize([model.period, model.log_sigma2, model.tref, model.lighttime, model.eccen_param, model.varpi])"
   ]
  },
  {
   "cell_type": "code",
   "execution_count": 87,
   "metadata": {},
   "outputs": [
    {
     "name": "stdout",
     "output_type": "stream",
     "text": [
      "INFO:tensorflow:Optimization terminated with:\n",
      "  Message: b'CONVERGENCE: REL_REDUCTION_OF_F_<=_FACTR*EPSMCH'\n",
      "  Objective function value: 282509.503320\n",
      "  Number of iterations: 3\n",
      "  Number of functions evaluations: 8\n"
     ]
    }
   ],
   "source": [
    "model.optimize([model.nu])"
   ]
  },
  {
   "cell_type": "code",
   "execution_count": 88,
   "metadata": {},
   "outputs": [
    {
     "data": {
      "text/plain": [
       "array([-0.00013245, -0.00031948])"
      ]
     },
     "execution_count": 88,
     "metadata": {},
     "output_type": "execute_result"
    }
   ],
   "source": [
    "model.nu_data - model.get_session().run(model.nu)"
   ]
  },
  {
   "cell_type": "code",
   "execution_count": 93,
   "metadata": {},
   "outputs": [
    {
     "data": {
      "image/png": "[encoded data removed]",
      "text/plain": [
       "<matplotlib.figure.Figure at 0x1c37db4a20>"
      ]
     },
     "metadata": {},
     "output_type": "display_data"
    }
   ],
   "source": [
    "plt.plot(times, model.run(model.psi), \".k\", ms=1)\n",
    "plt.ylabel(\"$\\psi(t)$\")\n",
    "plt.xlabel(\"$t$\");"
   ]
  },
  {
   "cell_type": "code",
   "execution_count": 94,
   "metadata": {},
   "outputs": [
    {
     "data": {
      "image/png": "[encoded data removed]",
      "text/plain": [
       "<matplotlib.figure.Figure at 0x1c37983f28>"
      ]
     },
     "metadata": {},
     "output_type": "display_data"
    }
   ],
   "source": [
    "plt.plot(times, model.run(model.tau), \".\", ms=1)\n",
    "plt.ylabel(r\"$\\tau(t)$\")\n",
    "plt.xlabel(\"$t$\");"
   ]
  },
  {
   "cell_type": "code",
   "execution_count": 95,
   "metadata": {},
   "outputs": [
    {
     "data": {
      "text/plain": [
       "<matplotlib.text.Text at 0x1c420909e8>"
      ]
     },
     "execution_count": 95,
     "metadata": {},
     "output_type": "execute_result"
    },
    {
     "data": {
      "image/png": "[encoded data removed]",
      "text/plain": [
       "<matplotlib.figure.Figure at 0x1c42046828>"
      ]
     },
     "metadata": {},
     "output_type": "display_data"
    }
   ],
   "source": [
    "lt, lt_ivar = model.get_lighttime_estimates()\n",
    "lt_err = np.sqrt(1./lt_ivar)\n",
    "nu = model.run(model.nu)\n",
    "plt.errorbar(nu, lt, yerr=lt_err, fmt=\"k.\")\n",
    "# plt.ylim(-0.01, 0.01)\n",
    "plt.xlabel(r\"$\\nu$\")"
   ]
  },
  {
   "cell_type": "code",
   "execution_count": 96,
   "metadata": {},
   "outputs": [
    {
     "data": {
      "text/plain": [
       "0.0084591511553728932"
      ]
     },
     "execution_count": 96,
     "metadata": {},
     "output_type": "execute_result"
    }
   ],
   "source": [
    "model.run(model.eccen)"
   ]
  },
  {
   "cell_type": "code",
   "execution_count": 81,
   "metadata": {},
   "outputs": [
    {
     "data": {
      "text/plain": [
       "Name                   kic11754974\n",
       "Porb                       343.242\n",
       "Porb_sig_p                0.500622\n",
       "Porb_sig_m                0.497353\n",
       "a1sini/c                   131.138\n",
       "a1sini/c_sig_p             1.17293\n",
       "a1sini/c_sig_m             1.18227\n",
       "e                         0.018982\n",
       "e_sig_p                   0.017421\n",
       "e_sig_m                   0.011861\n",
       "phip                      0.451625\n",
       "phip_sig_p                0.132112\n",
       "phip_sig_m                0.276224\n",
       "varpi                     0.737616\n",
       "varpi_sig_p               0.844385\n",
       "varpi_sig_m                1.75724\n",
       "f(M)Msun                 0.0205526\n",
       "f(M)Msun_sig_p           0.0005547\n",
       "f(M)Msun_sig_m           0.0005591\n",
       "gradient                 -0.009368\n",
       "grad_sig_p                0.002241\n",
       "grad_sig_m                0.002392\n",
       "t_p                        55113.4\n",
       "t_p_sig_p                  45.3491\n",
       "t_p_sig_m                  94.8129\n",
       "K1_ms                       8328.6\n",
       "K1_ms_sig_p                   48.6\n",
       "K1_ms_sig_m                     46\n",
       "median_segment_size            NaN\n",
       "Name: 34, dtype: object"
      ]
     },
     "execution_count": 81,
     "metadata": {},
     "output_type": "execute_result"
    }
   ],
   "source": [
    "orb_params"
   ]
  },
  {
   "cell_type": "code",
   "execution_count": null,
   "metadata": {
    "collapsed": true
   },
   "outputs": [],
   "source": []
  }
 ],
 "metadata": {
  "kernelspec": {
   "display_name": "Python 3",
   "language": "python",
   "name": "python3"
  },
  "language_info": {
   "codemirror_mode": {
    "name": "ipython",
    "version": 3
   },
   "file_extension": ".py",
   "mimetype": "text/x-python",
   "name": "python",
   "nbconvert_exporter": "python",
   "pygments_lexer": "ipython3",
   "version": "3.6.1"
  }
 },
 "nbformat": 4,
 "nbformat_minor": 2
}
