{
 "cells": [
  {
   "cell_type": "code",
   "execution_count": 1,
   "metadata": {},
   "outputs": [],
   "source": [
    "%matplotlib inline\n",
    "%config IPython.matplotlib.backend = \"retina\"\n",
    "from matplotlib import rcParams\n",
    "rcParams['figure.figsize'] = (20, 6)"
   ]
  },
  {
   "cell_type": "code",
   "execution_count": 2,
   "metadata": {},
   "outputs": [
    {
     "name": "stderr",
     "output_type": "stream",
     "text": [
      "/home/daniel/anaconda3/lib/python3.6/site-packages/h5py/__init__.py:36: FutureWarning: Conversion of the second argument of issubdtype from `float` to `np.floating` is deprecated. In future, it will be treated as `np.float64 == np.dtype(float).type`.\n",
      "  from ._conv import register_converters as _register_converters\n"
     ]
    }
   ],
   "source": [
    "import numpy as np\n",
    "import pandas as pd\n",
    "import tensorflow as tf\n",
    "import matplotlib.pyplot as plt\n",
    "import glob\n",
    "\n",
    "from maelstrom.maelstrom import kepler"
   ]
  },
  {
   "cell_type": "code",
   "execution_count": 3,
   "metadata": {},
   "outputs": [],
   "source": [
    "kicid = 8311110  # SB1\n",
    "kicid = 6862920  # PB2/SB2 high e\n",
    "kicid = 10080943  #PB2/SB2 low e\n",
    "#kicid = 4471379 # SB0\n",
    "\n",
    "times, dmag = np.loadtxt(f\"data/kic{kicid}_lc.txt\",usecols=(0,1)).T\n",
    "\n",
    "# Subtract midpoint\n",
    "time_mid = (times[0] + times[-1]) / 2.\n",
    "times -= time_mid\n",
    "\n",
    "# mmags\n",
    "dmmags = dmag * 1000. \n",
    "\n",
    "nu_arr = np.loadtxt(f\"data/kic{kicid}_metadata.csv\", delimiter=\",\", skiprows=1)[::6]"
   ]
  },
  {
   "cell_type": "code",
   "execution_count": 4,
   "metadata": {},
   "outputs": [],
   "source": [
    "class RadialVelocity(object):\n",
    "    def __init__(self, time, velocity, err=None, meta={}):\n",
    "        self.time = time\n",
    "        self.vel = velocity\n",
    "        if err is not None:    # this if looks unintuitive but python doesn't like 'if not err'\n",
    "            self.err = err\n",
    "        self.meta = meta\n",
    "\n",
    "        T=tf.float64\n",
    "        self.time_tensor = tf.placeholder(T)\n",
    "        self.rv_tensor = tf.placeholder(T)\n",
    "        self.err_tensor = tf.placeholder(T)"
   ]
  },
  {
   "cell_type": "code",
   "execution_count": 5,
   "metadata": {},
   "outputs": [],
   "source": [
    "rvs = []\n",
    "# Make sure glob is sorted to read in alphabetically\n",
    "# Glob also has to be * and not ?, otherwise it won't pick up kicid_JDrv data (i.e. single RV)\n",
    "for file in sorted(glob.glob(f\"data/kic{kicid}*_JDrv.txt\")):\n",
    "    rv = RadialVelocity(*np.loadtxt(file, delimiter=\",\", usecols=(0,1,2)).T, file[15:-9])\n",
    "    rv.time -= time_mid\n",
    "    rvs.append(rv)"
   ]
  },
  {
   "cell_type": "code",
   "execution_count": 6,
   "metadata": {},
   "outputs": [],
   "source": [
    "orbits = pd.read_csv(\"data/orbits.csv\").rename(columns = lambda x: x.strip())\n",
    "orbits.columns\n",
    "#orb_params = orbits[orbits.Name == \"kic{0}\".format(kicid)].iloc[0]\n",
    "porb = 15.3364\n",
    "a1 = 43.0\n",
    "tp = 55782.3\n",
    "e = 0.449\n",
    "varpi = 6.016\n",
    "a1d = a1/86400.0\n",
    "e_param = np.log(e) - np.log(1.0 - e)\n",
    "\n",
    "for rv in rvs:\n",
    "    rv.varpi = 5000\n",
    "    if rv.meta == 'a':\n",
    "        rv.ad = a1/86400.0\n",
    "    else:\n",
    "        rv.ad = -a1/86400"
   ]
  },
  {
   "cell_type": "code",
   "execution_count": 7,
   "metadata": {},
   "outputs": [
    {
     "data": {
      "image/png": "[encoded data removed]",
      "text/plain": [
       "<matplotlib.figure.Figure at 0x7f79e13a9b38>"
      ]
     },
     "metadata": {},
     "output_type": "display_data"
    }
   ],
   "source": [
    "for rv in rvs:\n",
    "    plt.errorbar(rv.time % porb / porb, rv.vel, rv.err, fmt=\"o\", label=rv.meta)\n",
    "plt.xlabel('Orbital phase')\n",
    "plt.ylabel('Radial velocity (km/s)')\n",
    "plt.title('Phase folded RV')\n",
    "plt.legend()\n",
    "plt.show()"
   ]
  },
  {
   "cell_type": "code",
   "execution_count": 8,
   "metadata": {},
   "outputs": [],
   "source": [
    "sess = tf.InteractiveSession()"
   ]
  },
  {
   "cell_type": "markdown",
   "metadata": {},
   "source": [
    "The way that TensorFlow works is that you define the operations on `Variable` and `placeholder` objects. Here we describe the model: "
   ]
  },
  {
   "cell_type": "code",
   "execution_count": 9,
   "metadata": {},
   "outputs": [],
   "source": [
    "T = tf.float64\n",
    "\n",
    "# First the variables that we might want to optimize:\n",
    "porb_tensor = tf.Variable(porb, dtype=T)\n",
    "tp_tensor = tf.Variable(tp, dtype=T)\n",
    "tp_tensor = tf.Variable(0.5, dtype=T)\n",
    "nu_tensor = tf.Variable(nu_arr, dtype=T)\n",
    "e_param_tensor = tf.Variable(e_param, dtype=T)  # This forces the ecc to be between 0 and 1\n",
    "e_tensor = 1.0 / (1.0 + tf.exp(-e_param_tensor))\n",
    "varpi_tensor = tf.Variable(varpi, dtype=T)\n",
    "log_sigma2_tensor = tf.Variable(0.0, dtype=T)  # Variance from observational uncertainties and model misspecification\n",
    "gammav_tensor = tf.Variable(np.mean(rvs[0].vel) / 299792.458, dtype=T)\n",
    "\n",
    "# Array of ad's of length frequency count\n",
    "ad_tensor = tf.Variable(a1d + np.zeros_like(nu_arr), dtype=T)\n",
    "\n",
    "for rv in rvs:\n",
    "    rv.varpi_tensor = tf.Variable(rv.varpi, dtype=T)\n",
    "    rv.log_rv_sigma2_tensor = tf.Variable(np.log(np.median(rv.err)), dtype=T)  # RV jitter\n",
    "\n",
    "# These are some placeholders for the data:\n",
    "times_tensor = tf.placeholder(T, times.shape)\n",
    "dmmags_tensor = tf.placeholder(T, dmmags.shape)\n",
    "\n",
    "# Solve Kepler's equation\n",
    "mean_anom = 2.0 * np.pi * (times_tensor - tp_tensor) / porb_tensor\n",
    "ecc_anom = kepler(mean_anom, e_tensor)\n",
    "true_anom = 2.0 * tf.atan2(tf.sqrt(1.0+e_tensor)*tf.tan(0.5*ecc_anom), tf.sqrt(1.0-e_tensor) + tf.zeros_like(times_tensor))"
   ]
  },
  {
   "cell_type": "markdown",
   "metadata": {},
   "source": [
    "We use a unit vector to describe the time delay in the tau_tensor, and multiply this by an amplitude scalar which is the semi-major axis, ad_tensor."
   ]
  },
  {
   "cell_type": "code",
   "execution_count": 10,
   "metadata": {},
   "outputs": [
    {
     "data": {
      "text/plain": [
       "\"\\nfor rv in rvs:\\n    # Solve Kepler's equation for the RVs\\n    rv.mean_anom = (2.0 * np.pi * (rv.time_tensor - tp_tensor) / porb_tensor)\\n    rv.ecc_anom = kepler(rv.mean_anom, e_tensor)\\n    rv.true_anom = 2.0 * tf.atan2(tf.sqrt(1.0+e_tensor)*tf.tan(0.5*rv.ecc_anom), tf.sqrt(1.0-e_tensor) + tf.zeros_like(rv.time_tensor))\\n\\n    # Here we define how the RV will be calculated:\\n    rv.vrad_tensor = 299792.458*(gammav_tensor - 2.0 * np.pi * (ad_tensor / porb_tensor) * (1/tf.sqrt(1.0 - tf.square(e_tensor))) * (tf.cos(rv.true_anom + varpi_tensor) + e_tensor*tf.cos(varpi_tensor)))\\n\\n    sig2 = tf.square(rv.err_tensor) + tf.exp(rv.log_rv_sigma2_tensor)\\n    chi = tf.square(rv.rv_tensor - rv.vrad_tensor) / sig2 + tf.log(sig2)\\n    chi2_tensor += tf.reduce_sum(chi)\\n\""
      ]
     },
     "execution_count": 10,
     "metadata": {},
     "output_type": "execute_result"
    }
   ],
   "source": [
    "# Here we define how the time delay will be calculated:\n",
    "tau_tensor = -(1.0 - tf.square(e_tensor)) * tf.sin(true_anom + varpi_tensor) / (1.0 + e_tensor*tf.cos(true_anom))\n",
    "\n",
    "# And the design matrix:\n",
    "arg_tensor = 2.0 * np.pi * nu_tensor[None, :] * (times_tensor[:, None] - ad_tensor[None, :] * tau_tensor[:, None])\n",
    "D_tensor = tf.concat([tf.cos(arg_tensor), tf.sin(arg_tensor)], axis=1)\n",
    "\n",
    "# Define the linear solve for W_hat:\n",
    "DTD_tensor = tf.matmul(D_tensor, D_tensor, transpose_a=True)\n",
    "DTy_tensor = tf.matmul(D_tensor, dmmags_tensor[:, None], transpose_a=True)\n",
    "W_hat_tensor = tf.linalg.solve(DTD_tensor, DTy_tensor)\n",
    "\n",
    "# Finally, the model and the chi^2 objective:\n",
    "model_tensor = tf.squeeze(tf.matmul(D_tensor, W_hat_tensor))\n",
    "chi2_tensor = tf.reduce_sum(tf.square(dmmags_tensor - model_tensor)) * tf.exp(-log_sigma2_tensor)\n",
    "chi2_tensor += len(times) * log_sigma2_tensor\n",
    "\"\"\"\n",
    "for rv in rvs:\n",
    "    # Solve Kepler's equation for the RVs\n",
    "    rv.mean_anom = (2.0 * np.pi * (rv.time_tensor - tp_tensor) / porb_tensor)\n",
    "    rv.ecc_anom = kepler(rv.mean_anom, e_tensor)\n",
    "    rv.true_anom = 2.0 * tf.atan2(tf.sqrt(1.0+e_tensor)*tf.tan(0.5*rv.ecc_anom), tf.sqrt(1.0-e_tensor) + tf.zeros_like(rv.time_tensor))\n",
    "\n",
    "    # Here we define how the RV will be calculated:\n",
    "    rv.vrad_tensor = 299792.458*(gammav_tensor - 2.0 * np.pi * (ad_tensor / porb_tensor) * (1/tf.sqrt(1.0 - tf.square(e_tensor))) * (tf.cos(rv.true_anom + varpi_tensor) + e_tensor*tf.cos(varpi_tensor)))\n",
    "\n",
    "    sig2 = tf.square(rv.err_tensor) + tf.exp(rv.log_rv_sigma2_tensor)\n",
    "    chi = tf.square(rv.rv_tensor - rv.vrad_tensor) / sig2 + tf.log(sig2)\n",
    "    chi2_tensor += tf.reduce_sum(chi)\n",
    "\"\"\""
   ]
  },
  {
   "cell_type": "markdown",
   "metadata": {},
   "source": [
    "Here's how you could evaluate different parts of the model:"
   ]
  },
  {
   "cell_type": "code",
   "execution_count": 11,
   "metadata": {},
   "outputs": [],
   "source": [
    "# We need to initialize the variables:\n",
    "tf.global_variables_initializer().run()\n",
    "\n",
    "data = {times_tensor: times, \n",
    "        dmmags_tensor: dmmags}"
   ]
  },
  {
   "cell_type": "code",
   "execution_count": 12,
   "metadata": {},
   "outputs": [],
   "source": [
    "old_chi2 = sess.run(chi2_tensor, feed_dict=data)"
   ]
  },
  {
   "cell_type": "markdown",
   "metadata": {},
   "source": [
    "Now we'll fit the parameters. We'll iterate with different subsets a few times."
   ]
  },
  {
   "cell_type": "code",
   "execution_count": 13,
   "metadata": {},
   "outputs": [
    {
     "name": "stdout",
     "output_type": "stream",
     "text": [
      "INFO:tensorflow:Optimization terminated with:\n",
      "  Message: b'CONVERGENCE: REL_REDUCTION_OF_F_<=_FACTR*EPSMCH'\n",
      "  Objective function value: 240712.140803\n",
      "  Number of iterations: 10\n",
      "  Number of functions evaluations: 13\n",
      "INFO:tensorflow:Optimization terminated with:\n",
      "  Message: b'CONVERGENCE: REL_REDUCTION_OF_F_<=_FACTR*EPSMCH'\n",
      "  Objective function value: 240701.976338\n",
      "  Number of iterations: 11\n",
      "  Number of functions evaluations: 15\n",
      "INFO:tensorflow:Optimization terminated with:\n",
      "  Message: b'CONVERGENCE: REL_REDUCTION_OF_F_<=_FACTR*EPSMCH'\n",
      "  Objective function value: 240701.976182\n",
      "  Number of iterations: 1\n",
      "  Number of functions evaluations: 4\n",
      "1149335.466167926\n",
      "INFO:tensorflow:Optimization terminated with:\n",
      "  Message: b'CONVERGENCE: REL_REDUCTION_OF_F_<=_FACTR*EPSMCH'\n",
      "  Objective function value: 240698.479741\n",
      "  Number of iterations: 14\n",
      "  Number of functions evaluations: 17\n",
      "INFO:tensorflow:Optimization terminated with:\n",
      "  Message: b'CONVERGENCE: REL_REDUCTION_OF_F_<=_FACTR*EPSMCH'\n",
      "  Objective function value: 240696.816888\n",
      "  Number of iterations: 10\n",
      "  Number of functions evaluations: 14\n",
      "INFO:tensorflow:Optimization terminated with:\n",
      "  Message: b'CONVERGENCE: REL_REDUCTION_OF_F_<=_FACTR*EPSMCH'\n",
      "  Objective function value: 240696.816869\n",
      "  Number of iterations: 1\n",
      "  Number of functions evaluations: 4\n",
      "5.159312345000217\n"
     ]
    }
   ],
   "source": [
    "old_chi2 = sess.run(chi2_tensor, feed_dict=data)\n",
    "for i in range(2):\n",
    "    params = [log_sigma2_tensor, tp_tensor]\n",
    "    #params = [log_sigma2_tensor, porb_tensor, tp_tensor]\n",
    "    opt = tf.contrib.opt.ScipyOptimizerInterface(chi2_tensor, params, method=\"L-BFGS-B\")\n",
    "    opt.minimize(sess, feed_dict=data)\n",
    "    \n",
    "    params.append(ad_tensor)\n",
    "    opt = tf.contrib.opt.ScipyOptimizerInterface(chi2_tensor, params, method=\"L-BFGS-B\")\n",
    "    opt.minimize(sess, feed_dict=data)\n",
    "\n",
    "    params += [varpi_tensor]\n",
    "    opt = tf.contrib.opt.ScipyOptimizerInterface(chi2_tensor, params, method=\"L-BFGS-B\")\n",
    "    opt.minimize(sess, feed_dict=data)\n",
    "        \n",
    "    new_chi2 = sess.run(chi2_tensor, feed_dict=data)\n",
    "    print(old_chi2 - new_chi2)\n",
    "    if np.abs(old_chi2 - new_chi2) < 1.0:\n",
    "        break\n",
    "    old_chi2 = new_chi2"
   ]
  },
  {
   "cell_type": "markdown",
   "metadata": {},
   "source": [
    "Let's make the updated final plots."
   ]
  },
  {
   "cell_type": "code",
   "execution_count": 14,
   "metadata": {},
   "outputs": [
    {
     "data": {
      "image/png": "[encoded data removed]",
      "text/plain": [
       "<matplotlib.figure.Figure at 0x7f79ffd49a58>"
      ]
     },
     "metadata": {},
     "output_type": "display_data"
    }
   ],
   "source": [
    "models = tau_tensor[:, None] * ad_tensor[None, :]\n",
    "plt.plot(times % porb / porb, sess.run(models, feed_dict=data), \".\", ms=3)\n",
    "plt.ylabel(r\"$\\tau(t)$, days\")\n",
    "plt.xlabel(\"Orbital phase\");"
   ]
  },
  {
   "cell_type": "markdown",
   "metadata": {},
   "source": [
    "Organise ad tensor values by weighted amount at each frequency of oscillation"
   ]
  },
  {
   "cell_type": "code",
   "execution_count": 15,
   "metadata": {
    "scrolled": false
   },
   "outputs": [],
   "source": [
    "ivar = -np.diag(sess.run(tf.hessians(-0.5*chi2_tensor, ad_tensor), feed_dict=data)[0])\n",
    "ad = sess.run(ad_tensor)\n",
    "ad *= np.sign(ad[0])\n",
    "sig = 1.0 / np.sqrt(ivar)\n",
    "#plt.errorbar(np.arange(len(ad)), ad, yerr=sig, fmt=\".\")\n",
    "\n",
    "if np.any(ad < 0):\n",
    "    m1 = ad > 0\n",
    "    m2 = ad <= 0\n",
    "    ad = [\n",
    "        np.sum(ivar[m1]*ad[m1]) / np.sum(ivar[m1]),\n",
    "        np.sum(ivar[m2]*ad[m2]) / np.sum(ivar[m2]),\n",
    "    ]\n",
    "else:\n",
    "    ad = [np.sum(ivar*ad) / np.sum(ivar)]"
   ]
  },
  {
   "cell_type": "code",
   "execution_count": 17,
   "metadata": {},
   "outputs": [],
   "source": [
    "inds = tf.cast(0.5 - 0.5 * (ad_tensor / tf.abs(ad_tensor)), tf.int32)\n",
    "#ad_params = tf.Variable(ad, dtype=T)\n",
    "ad_params = tf.Variable(np.multiply(ad,1), dtype=T)\n",
    "sess.run(ad_params.initializer)\n",
    "ad_tensor = tf.gather(ad_params, inds)\n",
    "\n",
    "# And the design matrix:\n",
    "arg_tensor = 2.0 * np.pi * nu_tensor[None, :] * (times_tensor[:, None] - ad_tensor[None, :] * tau_tensor[:, None])\n",
    "D_tensor = tf.concat([tf.cos(arg_tensor), tf.sin(arg_tensor)], axis=1)\n",
    "\n",
    "# Define the linear solve for W_hat:\n",
    "DTD_tensor = tf.matmul(D_tensor, D_tensor, transpose_a=True)\n",
    "DTy_tensor = tf.matmul(D_tensor, dmmags_tensor[:, None], transpose_a=True)\n",
    "W_hat_tensor = tf.linalg.solve(DTD_tensor, DTy_tensor)\n",
    "\n",
    "# Finally, the model and the chi^2 objective:\n",
    "model_tensor = tf.squeeze(tf.matmul(D_tensor, W_hat_tensor))\n",
    "chi2_tensor = tf.reduce_sum(tf.square(dmmags_tensor - model_tensor)) * tf.exp(-log_sigma2_tensor)\n",
    "chi2_tensor += len(times) * log_sigma2_tensor\n",
    "\n",
    "rvs[0].ad_tensor = ad_params[0]\n",
    "rvs[1].ad_tensor = ad_params[1]\n",
    "\n",
    "var_dict = {\n",
    "    porb_tensor: (0, None),\n",
    "    tp_tensor: (None, None),\n",
    "    e_param_tensor: (None, None),\n",
    "    log_sigma2_tensor: (None, None),\n",
    "    gammav_tensor: (None, None),\n",
    "    varpi_tensor: (None,None)\n",
    "}\n",
    "\n",
    "for rv in rvs:\n",
    "    # Solve Kepler's equation for the RVs\n",
    "    rv.mean_anom = (2.0 * np.pi * (rv.time_tensor - tp_tensor) / porb_tensor)\n",
    "    rv.ecc_anom = kepler(rv.mean_anom, e_tensor)\n",
    "    rv.true_anom = 2.0 * tf.atan2(tf.sqrt(1.0+e_tensor)*tf.tan(0.5*rv.ecc_anom), tf.sqrt(1.0-e_tensor) + tf.zeros_like(rv.time_tensor))\n",
    "\n",
    "    # Here we define how the RV will be calculated:\n",
    "    rv.vrad_tensor = -2.0 * np.pi * (rv.ad_tensor / porb_tensor) * (1/tf.sqrt(1.0 - tf.square(e_tensor))) * (tf.cos(rv.true_anom + varpi_tensor) + e_tensor*tf.cos(varpi_tensor))\n",
    "    rv.vrad_tensor += gammav_tensor\n",
    "    rv.vrad_tensor *= 299792.458  # c in km/s\n",
    "\n",
    "    sig2 = tf.square(rv.err_tensor) + tf.exp(rv.log_rv_sigma2_tensor)\n",
    "    chi = tf.square(rv.rv_tensor - rv.vrad_tensor) / sig2 + tf.log(sig2)\n",
    "    chi2_tensor += tf.reduce_sum(chi)\n",
    "    \n",
    "    var_dict.update({\n",
    "        rv.log_rv_sigma2_tensor: (None, None)\n",
    "    })\n",
    "    \n",
    "var_dict.update({\n",
    "    rvs[0].ad_tensor: (None, None),\n",
    "    rvs[1].ad_tensor: (None, None)\n",
    "})\n",
    "    "
   ]
  },
  {
   "cell_type": "code",
   "execution_count": 18,
   "metadata": {},
   "outputs": [],
   "source": [
    "data = {times_tensor: times, \n",
    "        dmmags_tensor: dmmags}\n",
    "\n",
    "for rv in rvs:\n",
    "    data.update({\n",
    "        rv.time_tensor: rv.time,\n",
    "        rv.rv_tensor: rv.vel,\n",
    "        rv.err_tensor: rv.err,\n",
    "    })"
   ]
  },
  {
   "cell_type": "code",
   "execution_count": 19,
   "metadata": {},
   "outputs": [
    {
     "name": "stdout",
     "output_type": "stream",
     "text": [
      "INFO:tensorflow:Optimization terminated with:\n",
      "  Message: b'CONVERGENCE: REL_REDUCTION_OF_F_<=_FACTR*EPSMCH'\n",
      "  Objective function value: 240779.304712\n",
      "  Number of iterations: 14\n",
      "  Number of functions evaluations: 16\n",
      "INFO:tensorflow:Optimization terminated with:\n",
      "  Message: b'CONVERGENCE: REL_REDUCTION_OF_F_<=_FACTR*EPSMCH'\n",
      "  Objective function value: 240779.527168\n",
      "  Number of iterations: 1\n",
      "  Number of functions evaluations: 3\n",
      "INFO:tensorflow:Optimization terminated with:\n",
      "  Message: b'CONVERGENCE: REL_REDUCTION_OF_F_<=_FACTR*EPSMCH'\n",
      "  Objective function value: 240779.527167\n",
      "  Number of iterations: 1\n",
      "  Number of functions evaluations: 3\n",
      "INFO:tensorflow:Optimization terminated with:\n",
      "  Message: b'CONVERGENCE: REL_REDUCTION_OF_F_<=_FACTR*EPSMCH'\n",
      "  Objective function value: 240779.527167\n",
      "  Number of iterations: 1\n",
      "  Number of functions evaluations: 3\n",
      "INFO:tensorflow:Optimization terminated with:\n",
      "  Message: b'CONVERGENCE: REL_REDUCTION_OF_F_<=_FACTR*EPSMCH'\n",
      "  Objective function value: 240779.527167\n",
      "  Number of iterations: 1\n",
      "  Number of functions evaluations: 3\n"
     ]
    },
    {
     "data": {
      "text/plain": [
       "'\\nold_chi2 = sess.run(chi2_tensor, feed_dict=data)\\nfor i in range(5):\\n    params = [log_sigma2_tensor, tp_tensor]\\n    opt = tf.contrib.opt.ScipyOptimizerInterface(chi2_tensor, params, method=\"L-BFGS-B\")\\n    opt.minimize(sess, feed_dict=data)\\n    \\n    #params += [rvs[0].ad_tensor, rvs[1].ad_tensor]\\n    opt = tf.contrib.opt.ScipyOptimizerInterface(chi2_tensor, params, method=\"L-BFGS-B\")\\n    opt.minimize(sess, feed_dict=data)\\n\\n    opt = tf.contrib.opt.ScipyOptimizerInterface(chi2_tensor, params, method=\"L-BFGS-B\")\\n    opt.minimize(sess, feed_dict=data)\\n    \\n    opt = tf.contrib.opt.ScipyOptimizerInterface(chi2_tensor, params, method=\"L-BFGS-B\")\\n    opt.minimize(sess, feed_dict=data)\\n    \\n    new_chi2 = sess.run(chi2_tensor, feed_dict=data)\\n    print(old_chi2 - new_chi2)\\n    if np.abs(old_chi2 - new_chi2) < 1.0:\\n        break\\n    old_chi2 = new_chi2\\n    \\n'"
      ]
     },
     "execution_count": 19,
     "metadata": {},
     "output_type": "execute_result"
    }
   ],
   "source": [
    "opt = tf.contrib.opt.ScipyOptimizerInterface(chi2_tensor, var_list=list(var_dict.keys()),var_to_bounds=var_dict)\n",
    "for i in range(5):\n",
    "    opt.minimize(sess, feed_dict=data)\n",
    "\n",
    "\"\"\"\n",
    "old_chi2 = sess.run(chi2_tensor, feed_dict=data)\n",
    "for i in range(5):\n",
    "    params = [log_sigma2_tensor, tp_tensor]\n",
    "    opt = tf.contrib.opt.ScipyOptimizerInterface(chi2_tensor, params, method=\"L-BFGS-B\")\n",
    "    opt.minimize(sess, feed_dict=data)\n",
    "    \n",
    "    #params += [rvs[0].ad_tensor, rvs[1].ad_tensor]\n",
    "    opt = tf.contrib.opt.ScipyOptimizerInterface(chi2_tensor, params, method=\"L-BFGS-B\")\n",
    "    opt.minimize(sess, feed_dict=data)\n",
    "\n",
    "    opt = tf.contrib.opt.ScipyOptimizerInterface(chi2_tensor, params, method=\"L-BFGS-B\")\n",
    "    opt.minimize(sess, feed_dict=data)\n",
    "    \n",
    "    opt = tf.contrib.opt.ScipyOptimizerInterface(chi2_tensor, params, method=\"L-BFGS-B\")\n",
    "    opt.minimize(sess, feed_dict=data)\n",
    "    \n",
    "    new_chi2 = sess.run(chi2_tensor, feed_dict=data)\n",
    "    print(old_chi2 - new_chi2)\n",
    "    if np.abs(old_chi2 - new_chi2) < 1.0:\n",
    "        break\n",
    "    old_chi2 = new_chi2\n",
    "    \n",
    "\"\"\""
   ]
  },
  {
   "cell_type": "code",
   "execution_count": 20,
   "metadata": {},
   "outputs": [
    {
     "data": {
      "text/plain": [
       "Text(0.5,1,'Time delay KIC 6862920')"
      ]
     },
     "execution_count": 20,
     "metadata": {},
     "output_type": "execute_result"
    },
    {
     "data": {
      "image/png": "[encoded data removed]",
      "text/plain": [
       "<matplotlib.figure.Figure at 0x7f798dcd1748>"
      ]
     },
     "metadata": {},
     "output_type": "display_data"
    }
   ],
   "source": [
    "models = tau_tensor[:, None] * ad_tensor[None, :]\n",
    "plt.plot(times % sess.run(porb_tensor)/sess.run(porb_tensor), 86400.0 * sess.run(models, feed_dict=data), \".\", ms=2);\n",
    "plt.ylabel(r\"$\\tau(s)$\")\n",
    "plt.xlabel(\"$t$\");\n",
    "plt.title('Time delay KIC 6862920')"
   ]
  },
  {
   "cell_type": "code",
   "execution_count": 21,
   "metadata": {},
   "outputs": [
    {
     "data": {
      "image/png": "[encoded data removed]",
      "text/plain": [
       "<matplotlib.figure.Figure at 0x7f798dcbfdd8>"
      ]
     },
     "metadata": {},
     "output_type": "display_data"
    }
   ],
   "source": [
    "for rv in rvs:\n",
    "    rv_phi_test = np.sort(np.linspace(0, sess.run(porb_tensor), 5000) % sess.run(porb_tensor))\n",
    "    vrad = sess.run(rv.vrad_tensor, feed_dict={rv.time_tensor: rv_phi_test})\n",
    "\n",
    "    plt.errorbar((rv.time % sess.run(porb_tensor))/sess.run(porb_tensor),rv.vel,rv.err,fmt=\".\",label='RV'+rv.meta+' obs')\n",
    "    plt.plot(rv_phi_test % sess.run(porb_tensor) /sess.run(porb_tensor), vrad,label='RV' +rv.meta+' th')\n",
    "\n",
    "plt.xlabel(\"Orbital phase\")\n",
    "plt.ylabel(\"RV (km/s)\")\n",
    "plt.title(\"KIC\"+str(kicid) + \": Phase-folded RV curve, P = \" + f\"{np.round(sess.run(porb_tensor),3)}\")\n",
    "plt.legend()\n",
    "plt.show()"
   ]
  },
  {
   "cell_type": "code",
   "execution_count": 24,
   "metadata": {},
   "outputs": [
    {
     "name": "stdout",
     "output_type": "stream",
     "text": [
      "e: 0.449\n",
      "porb: 15.336\n",
      "tp: 55780.099\n",
      "varpi = 6.016\n",
      "gamma = -22.951403701718657 km/s\n",
      "asini/c_3a: 44.968\n",
      "asini/c_3b: -43.217\n",
      "q:-1.0405060731825915\n"
     ]
    }
   ],
   "source": [
    "print(f\"e: {np.round(sess.run(e_tensor),3)}\")\n",
    "print(f\"porb: {np.round(sess.run(porb_tensor),3)}\")\n",
    "print(f\"tp: {np.round(sess.run(tp_tensor),3)}\")\n",
    "print(f\"varpi = {np.round(sess.run(varpi_tensor),3)}\")\n",
    "print(f\"gamma = {(sess.run(gammav_tensor)*299792.458)} km/s\")\n",
    "for rv in rvs:\n",
    "    print(\"asini/c_\"+rv.meta+ \": \" + str(np.round(sess.run(rv.ad_tensor)*86400.,3)))\n",
    "print('q:' + str(sess.run(rvs[0].ad_tensor)/sess.run(rvs[1].ad_tensor)))"
   ]
  },
  {
   "cell_type": "code",
   "execution_count": 29,
   "metadata": {},
   "outputs": [
    {
     "name": "stdout",
     "output_type": "stream",
     "text": [
      "q:-1.0405060731825915\n"
     ]
    }
   ],
   "source": []
  },
  {
   "cell_type": "code",
   "execution_count": null,
   "metadata": {},
   "outputs": [],
   "source": []
  }
 ],
 "metadata": {
  "kernelspec": {
   "display_name": "Python 3",
   "language": "python",
   "name": "python3"
  },
  "language_info": {
   "codemirror_mode": {
    "name": "ipython",
    "version": 3
   },
   "file_extension": ".py",
   "mimetype": "text/x-python",
   "name": "python",
   "nbconvert_exporter": "python",
   "pygments_lexer": "ipython3",
   "version": "3.6.4"
  }
 },
 "nbformat": 4,
 "nbformat_minor": 2
}
