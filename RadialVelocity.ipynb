{
 "cells": [
  {
   "cell_type": "code",
   "execution_count": 17,
   "metadata": {
    "collapsed": true
   },
   "outputs": [],
   "source": [
    "%matplotlib inline\n",
    "%config IPython.matplotlib.backend = \"retina\"\n",
    "from matplotlib import rcParams\n",
    "rcParams[\"figure.dpi\"] = 150\n",
    "rcParams[\"savefig.dpi\"] = 150"
   ]
  },
  {
   "cell_type": "code",
   "execution_count": 18,
   "metadata": {
    "collapsed": true
   },
   "outputs": [],
   "source": [
    "import matplotlib.pyplot as plt\n",
    "import numpy as np\n",
    "import pandas as pd\n",
    "import tensorflow as tf"
   ]
  },
  {
   "cell_type": "code",
   "execution_count": 19,
   "metadata": {
    "scrolled": true
   },
   "outputs": [],
   "source": [
    "from maelstrom.kepler import kepler"
   ]
  },
  {
   "cell_type": "markdown",
   "metadata": {},
   "source": [
    "Read in the light curve, the frequencies, and then the RV data."
   ]
  },
  {
   "cell_type": "code",
   "execution_count": 20,
   "metadata": {},
   "outputs": [],
   "source": [
    "kicid = 6780873\n",
    "\n",
    "data = np.loadtxt(f\"data/kic{kicid}_lc.txt\")\n",
    "fulltimes = data[:, 0] # days\n",
    "tmid = 0.5*(fulltimes[0] + fulltimes[-1])\n",
    "times = fulltimes - tmid\n",
    "dmmags = data[:, 1] * 1000. # mmags\n",
    "\n",
    "times = times[2500:]\n",
    "dmmags = dmmags[2500:]\n",
    "\n",
    "metadata = np.loadtxt(f\"data/kic{kicid}_metadata.csv\", delimiter=\",\", skiprows=1)"
   ]
  },
  {
   "cell_type": "code",
   "execution_count": 21,
   "metadata": {},
   "outputs": [
    {
     "data": {
      "text/plain": [
       "array([14.18764154, 13.43633912,  5.39630636])"
      ]
     },
     "execution_count": 21,
     "metadata": {},
     "output_type": "execute_result"
    }
   ],
   "source": [
    "nu_arr = metadata[::6]\n",
    "nu_arr"
   ]
  },
  {
   "cell_type": "code",
   "execution_count": 22,
   "metadata": {},
   "outputs": [],
   "source": [
    "# load the RV data. They have the same time format (JD-2400000) as the light curve.\n",
    "rvs = np.loadtxt(f\"data/kic{kicid}_JDrv.txt\",delimiter=\",\")\n",
    "rvs[:, 0] -= tmid"
   ]
  },
  {
   "cell_type": "code",
   "execution_count": 23,
   "metadata": {},
   "outputs": [
    {
     "data": {
      "text/plain": [
       "array([8.32600275e+02, 8.90000000e+00, 3.00000000e-01])"
      ]
     },
     "execution_count": 23,
     "metadata": {},
     "output_type": "execute_result"
    }
   ],
   "source": [
    "# rvs are in the format [[JD, RV, uncertainty]]\n",
    "rvs[0]"
   ]
  },
  {
   "cell_type": "code",
   "execution_count": 24,
   "metadata": {},
   "outputs": [
    {
     "data": {
      "image/png": "[encoded data removed]",
      "text/plain": [
       "<Figure size 900x600 with 1 Axes>"
      ]
     },
     "metadata": {},
     "output_type": "display_data"
    }
   ],
   "source": [
    "# plot just the RVs for now\n",
    "plt.errorbar(rvs[:,0],rvs[:,1],rvs[:,2],fmt=\"o\")\n",
    "plt.xlabel(\"JD\")\n",
    "plt.ylabel(\"RV, km/s\")\n",
    "plt.show()"
   ]
  },
  {
   "cell_type": "code",
   "execution_count": 25,
   "metadata": {
    "collapsed": true
   },
   "outputs": [],
   "source": [
    "# read in the table of orbits\n",
    "# oops, our target doesn't have an orbit there, since P < 20 days.\n",
    "# let's just cheat a bit for now and read in the orbit of this one target as the orbits db\n",
    "\n",
    "orbits = pd.read_csv(f\"data/kic{kicid}_orbit.csv\").rename(columns = lambda x: x.strip())\n",
    "\n",
    "orb_params = orbits[orbits.Name == f\"kic{kicid}\"].iloc[0]\n",
    "porb = orb_params.Porb\n",
    "a1 = orb_params[\"a1sini/c\"]\n",
    "tp = orb_params[\"t_p\"] # - tmid\n",
    "e = orb_params[\"e\"]\n",
    "varpi = orb_params[\"varpi\"]\n",
    "a1d = a1/86400.0\n",
    "e_param = np.log(e) - np.log(1.0 - e)"
   ]
  },
  {
   "cell_type": "code",
   "execution_count": 26,
   "metadata": {
    "collapsed": true
   },
   "outputs": [],
   "source": [
    "sess = tf.InteractiveSession()"
   ]
  },
  {
   "cell_type": "code",
   "execution_count": 29,
   "metadata": {
    "collapsed": true
   },
   "outputs": [],
   "source": [
    "T = tf.float64\n",
    "\n",
    "# First the variables that we might want to optimize:\n",
    "porb_tensor = tf.Variable(porb, dtype=T)\n",
    "a1d_tensor = tf.Variable(a1d, dtype=T)\n",
    "tp_tensor = tf.Variable(tp, dtype=T)\n",
    "nu_tensor = tf.Variable(nu_arr, dtype=T)\n",
    "e_param_tensor = tf.Variable(e_param, dtype=T)  # This forces the ecc to be between 0 and 1\n",
    "e_tensor = 1.0 / (1.0 + tf.exp(-e_param_tensor))\n",
    "varpi_tensor = tf.Variable(varpi, dtype=T)\n",
    "log_sigma2_tensor = tf.Variable(0.0, dtype=T)  # Variance from observational uncertainties and model misspecification\n",
    "log_rv_sigma2_tensor = tf.Variable(np.log(np.median(rvs[:, 2])), dtype=T)  # RV jitter\n",
    "rv0_tensor = tf.Variable(np.zeros(1), dtype=T)\n",
    "\n",
    "# These are some placeholders for the data:\n",
    "times_tensor = tf.placeholder(T, times.shape)\n",
    "dmmags_tensor = tf.placeholder(T, dmmags.shape)\n",
    "\n",
    "# Solve Kepler's equation\n",
    "mean_anom = 2.0 * np.pi * (times_tensor - tp_tensor) / porb_tensor\n",
    "ecc_anom = kepler(mean_anom, e_tensor)\n",
    "true_anom = 2.0 * tf.atan2(tf.sqrt(1.0+e_tensor)*tf.tan(0.5*ecc_anom), tf.sqrt(1.0-e_tensor) + tf.zeros_like(times_tensor))"
   ]
  },
  {
   "cell_type": "markdown",
   "metadata": {},
   "source": [
    "Calculate the model and likelihood for the time delays"
   ]
  },
  {
   "cell_type": "code",
   "execution_count": 41,
   "metadata": {},
   "outputs": [],
   "source": [
    "# Here we define how the time delay will be calculated:\n",
    "tau_tensor = -a1d_tensor * (1.0 - tf.square(e_tensor)) * tf.sin(true_anom + varpi_tensor) / (1.0 + e_tensor*tf.cos(true_anom))\n",
    "\n",
    "# And the design matrix:\n",
    "arg_tensor = 2.0 * np.pi * nu_tensor[None, :] * (times_tensor - tau_tensor)[:, None]\n",
    "D_tensor = tf.concat([tf.cos(arg_tensor), tf.sin(arg_tensor)], axis=1)\n",
    "\n",
    "# Define the linear solve for W_hat:\n",
    "DTD_tensor = tf.matmul(D_tensor, D_tensor, transpose_a=True)\n",
    "DTy_tensor = tf.matmul(D_tensor, dmmags_tensor[:, None], transpose_a=True)\n",
    "W_hat_tensor = tf.linalg.solve(DTD_tensor, DTy_tensor)\n",
    "\n",
    "# Finally, the model and the chi^2 objective:\n",
    "model_tensor = tf.squeeze(tf.matmul(D_tensor, W_hat_tensor))\n",
    "chi2_tensor = tf.reduce_sum(tf.square(dmmags_tensor - model_tensor)) * tf.exp(-log_sigma2_tensor)\n",
    "chi2_tensor += len(times) * log_sigma2_tensor\n",
    "\n",
    "# NOW THE RVs:\n",
    "rv_time_tensor = tf.placeholder(T)\n",
    "rv_tensor = tf.placeholder(T)\n",
    "rv_err_tensor = tf.placeholder(T)\n",
    "\n",
    "# Solve Kepler's equation for the RVs\n",
    "rv_mean_anom = 2.0 * np.pi * (rv_time_tensor - tp_tensor) / porb_tensor\n",
    "rv_ecc_anom = kepler(rv_mean_anom, e_tensor)\n",
    "rv_true_anom = 2.0 * tf.atan2(tf.sqrt(1.0+e_tensor)*tf.tan(0.5*rv_ecc_anom), tf.sqrt(1.0-e_tensor) + tf.zeros_like(rv_time_tensor))\n",
    "\n",
    "# Here we define how the RV will be calculated:\n",
    "vrad_tensor = -2.0 * np.pi * (a1d_tensor / porb_tensor) * (1/tf.sqrt(1.0 - e_tensor**2)) * (tf.cos(rv_true_anom + varpi_tensor) + e_tensor*tf.cos(varpi_tensor))\n",
    "vrad_tensor *= 299792  # c in km/s\n",
    "vrad_tensor += rv0_tensor\n",
    "\n",
    "rv_sig2 = rv_err_tensor**2 + tf.exp(log_rv_sigma2_tensor)\n",
    "chi = tf.square(rv_tensor - vrad_tensor) / rv_sig2 + tf.log(rv_sig2)\n",
    "chi2_tensor += tf.reduce_sum(chi)\n",
    "\n",
    "var_list = [\n",
    "    tp_tensor, porb_tensor, e_param_tensor, a1d_tensor, varpi_tensor, log_rv_sigma2_tensor, log_sigma2_tensor, rv0_tensor\n",
    "]\n",
    "opt = tf.contrib.opt.ScipyOptimizerInterface(chi2_tensor, var_list=var_list)\n",
    "\n",
    "init = tf.global_variables_initializer()\n",
    "sess.run(init)"
   ]
  },
  {
   "cell_type": "code",
   "execution_count": 42,
   "metadata": {
    "collapsed": true
   },
   "outputs": [
    {
     "data": {
      "text/plain": [
       "1100633.360831295"
      ]
     },
     "execution_count": 42,
     "metadata": {},
     "output_type": "execute_result"
    }
   ],
   "source": [
    "feed_dict = {\n",
    "    times_tensor: times,\n",
    "    dmmags_tensor: dmmags,\n",
    "    rv_time_tensor: rvs[:, 0],\n",
    "    rv_tensor: rvs[:, 1],\n",
    "    rv_err_tensor: rvs[:, 2],\n",
    "}\n",
    "\n",
    "sess.run(chi2_tensor, feed_dict=feed_dict)"
   ]
  },
  {
   "cell_type": "code",
   "execution_count": 43,
   "metadata": {},
   "outputs": [
    {
     "name": "stdout",
     "output_type": "stream",
     "text": [
      "INFO:tensorflow:Optimization terminated with:\n",
      "  Message: b'CONVERGENCE: REL_REDUCTION_OF_F_<=_FACTR*EPSMCH'\n",
      "  Objective function value: 240463.176213\n",
      "  Number of iterations: 33\n",
      "  Number of functions evaluations: 36\n"
     ]
    }
   ],
   "source": [
    "opt.minimize(sess, feed_dict=feed_dict)"
   ]
  },
  {
   "cell_type": "code",
   "execution_count": 44,
   "metadata": {},
   "outputs": [
    {
     "data": {
      "text/plain": [
       "240463.17621329366"
      ]
     },
     "execution_count": 44,
     "metadata": {},
     "output_type": "execute_result"
    }
   ],
   "source": [
    "sess.run(chi2_tensor, feed_dict=feed_dict)"
   ]
  },
  {
   "cell_type": "code",
   "execution_count": 45,
   "metadata": {
    "collapsed": true
   },
   "outputs": [
    {
     "data": {
      "text/plain": [
       "[<matplotlib.lines.Line2D at 0x1a2f78deb8>]"
      ]
     },
     "execution_count": 45,
     "metadata": {},
     "output_type": "execute_result"
    },
    {
     "data": {
      "image/png": "[encoded data removed]",
      "text/plain": [
       "<Figure size 900x600 with 1 Axes>"
      ]
     },
     "metadata": {},
     "output_type": "display_data"
    }
   ],
   "source": [
    "rv_time_test = np.sort(np.linspace(rvs[:, 0].min(), rvs[:, 0].max(), 5000) % porb)\n",
    "vrad_test = sess.run(vrad_tensor, feed_dict={rv_time_tensor: rv_time_test})\n",
    "\n",
    "plt.errorbar(rvs[:,0] % porb,rvs[:,1],rvs[:,2],fmt=\".\")\n",
    "plt.plot(rv_time_test, vrad_test)"
   ]
  },
  {
   "cell_type": "code",
   "execution_count": null,
   "metadata": {},
   "outputs": [],
   "source": []
  },
  {
   "cell_type": "code",
   "execution_count": null,
   "metadata": {},
   "outputs": [],
   "source": []
  }
 ],
 "metadata": {
  "kernelspec": {
   "display_name": "Python 3",
   "language": "python",
   "name": "python3"
  },
  "language_info": {
   "codemirror_mode": {
    "name": "ipython",
    "version": 3
   },
   "file_extension": ".py",
   "mimetype": "text/x-python",
   "name": "python",
   "nbconvert_exporter": "python",
   "pygments_lexer": "ipython3",
   "version": "3.6.1"
  }
 },
 "nbformat": 4,
 "nbformat_minor": 2
}
