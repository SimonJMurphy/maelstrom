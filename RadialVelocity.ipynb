{
 "cells": [
  {
   "cell_type": "markdown",
   "metadata": {},
   "source": [
    "# Radial Velocities"
   ]
  },
  {
   "cell_type": "code",
   "execution_count": 1,
   "metadata": {},
   "outputs": [],
   "source": [
    "%matplotlib inline\n",
    "%config IPython.matplotlib.backend = \"retina\"\n",
    "from matplotlib import rcParams\n",
    "rcParams[\"figure.dpi\"] = 150\n",
    "rcParams[\"savefig.dpi\"] = 150"
   ]
  },
  {
   "cell_type": "code",
   "execution_count": 2,
   "metadata": {},
   "outputs": [
    {
     "name": "stderr",
     "output_type": "stream",
     "text": [
      "/Users/dforeman/anaconda/lib/python3.6/site-packages/h5py/__init__.py:36: FutureWarning: Conversion of the second argument of issubdtype from `float` to `np.floating` is deprecated. In future, it will be treated as `np.float64 == np.dtype(float).type`.\n",
      "  from ._conv import register_converters as _register_converters\n"
     ]
    }
   ],
   "source": [
    "import matplotlib.pyplot as plt\n",
    "import numpy as np\n",
    "import pandas as pd\n",
    "import tensorflow as tf\n",
    "from maelstrom.kepler import kepler"
   ]
  },
  {
   "cell_type": "markdown",
   "metadata": {},
   "source": [
    "Read in the light curve, the frequencies, and then the RV data."
   ]
  },
  {
   "cell_type": "code",
   "execution_count": 3,
   "metadata": {},
   "outputs": [],
   "source": [
    "kicid = 6780873\n",
    "\n",
    "times, dmag = np.loadtxt(f\"data/kic{kicid}_lc.txt\",usecols=(0,1)).T\n",
    "\n",
    "# Subtract midpoint\n",
    "time_mid = (times[0] + times[-1]) / 2.\n",
    "times -= time_mid\n",
    "\n",
    "# mmags\n",
    "dmmags = dmag * 1000. \n",
    "\n",
    "metadata = np.loadtxt(f\"data/kic{kicid}_metadata.csv\", delimiter=\",\", skiprows=1)\n",
    "nu_arr = metadata[::6]"
   ]
  },
  {
   "cell_type": "code",
   "execution_count": 4,
   "metadata": {},
   "outputs": [],
   "source": [
    "# load the RV data. They have the same time format (JD-2400000) as the light curve.\n",
    "# rvs are in the format [[JD, RV, uncertainty]]\n",
    "rv_JD, rv_RV, rv_err = np.loadtxt(f\"data/kic{kicid}_JDrv.txt\",delimiter=\",\", usecols=(0,1,2)).T\n",
    "rv_JD -= time_mid"
   ]
  },
  {
   "cell_type": "code",
   "execution_count": 5,
   "metadata": {},
   "outputs": [
    {
     "data": {
      "image/png": "[encoded data removed]",
      "text/plain": [
       "<Figure size 900x600 with 1 Axes>"
      ]
     },
     "metadata": {},
     "output_type": "display_data"
    }
   ],
   "source": [
    "# plot just the RVs for now\n",
    "plt.errorbar(rv_JD,rv_RV,rv_err,fmt=\"o\")\n",
    "plt.xlabel(f\"reduced JD - {time_mid}\")\n",
    "plt.ylabel(\"RV (km/s)\")\n",
    "plt.show()"
   ]
  },
  {
   "cell_type": "code",
   "execution_count": 6,
   "metadata": {},
   "outputs": [],
   "source": [
    "# read in the table of orbits\n",
    "# orbits = pd.read_csv(f\"data/orbits.csv\").rename(columns = lambda x: x.strip())\n",
    "\n",
    "# oops, our target doesn't have an orbit there, since P < 20 days.\n",
    "# let's just cheat a bit for now and read in the orbit of this one target as the orbits db\n",
    "orbits = pd.read_csv(f\"data/kic{kicid}_orbit.csv\").rename(columns = lambda x: x.strip())\n",
    "\n",
    "orb_params = orbits[orbits.Name == f\"kic{kicid}\"].iloc[0]\n",
    "porb = orb_params.Porb\n",
    "a1 = orb_params[\"a1sini/c\"]\n",
    "tp = orb_params[\"t_p\"] # - tmid\n",
    "e = orb_params[\"e\"]\n",
    "varpi = orb_params[\"varpi\"]\n",
    "a1d = a1/86400.0\n",
    "e_param = np.log(e) - np.log(1.0 - e)"
   ]
  },
  {
   "cell_type": "code",
   "execution_count": 7,
   "metadata": {
    "collapsed": true
   },
   "outputs": [],
   "source": [
    "sess = tf.InteractiveSession()"
   ]
  },
  {
   "cell_type": "code",
   "execution_count": 8,
   "metadata": {},
   "outputs": [],
   "source": [
    "T = tf.float64\n",
    "\n",
    "# First the variables that we might want to optimize:\n",
    "porb_tensor = tf.Variable(porb, dtype=T)\n",
    "a1d_tensor = tf.Variable(a1d, dtype=T)\n",
    "tp_tensor = tf.Variable(tp, dtype=T)\n",
    "nu_tensor = tf.Variable(nu_arr, dtype=T)\n",
    "e_param_tensor = tf.Variable(e_param, dtype=T)  # This forces the ecc to be between 0 and 1\n",
    "e_tensor = 1.0 / (1.0 + tf.exp(-e_param_tensor))\n",
    "varpi_tensor = tf.Variable(varpi, dtype=T)\n",
    "log_sigma2_tensor = tf.Variable(0.0, dtype=T)  # Variance from observational uncertainties and model misspecification\n",
    "log_rv_sigma2_tensor = tf.Variable(np.log(np.median(rv_err)), dtype=T)  # RV jitter\n",
    "gammav_tensor = tf.Variable(np.zeros(1), dtype=T)\n",
    "\n",
    "# These are some placeholders for the data:\n",
    "times_tensor = tf.placeholder(T, times.shape)\n",
    "dmmags_tensor = tf.placeholder(T, dmmags.shape)\n",
    "\n",
    "# Solve Kepler's equation\n",
    "mean_anom = 2.0 * np.pi * (times_tensor - tp_tensor) / porb_tensor\n",
    "ecc_anom = kepler(mean_anom, e_tensor)\n",
    "true_anom = 2.0 * tf.atan2(tf.sqrt(1.0+e_tensor)*tf.tan(0.5*ecc_anom),tf.sqrt(1.0-e_tensor) + tf.zeros_like(times_tensor))"
   ]
  },
  {
   "cell_type": "markdown",
   "metadata": {},
   "source": [
    "Calculate the model and likelihood for the time delays"
   ]
  },
  {
   "cell_type": "code",
   "execution_count": 9,
   "metadata": {},
   "outputs": [
    {
     "name": "stdout",
     "output_type": "stream",
     "text": [
      "WARNING:tensorflow:From /Users/dforeman/anaconda/lib/python3.6/site-packages/tensorflow/contrib/learn/python/learn/datasets/base.py:198: retry (from tensorflow.contrib.learn.python.learn.datasets.base) is deprecated and will be removed in a future version.\n",
      "Instructions for updating:\n",
      "Use the retry module or similar alternatives.\n"
     ]
    }
   ],
   "source": [
    "# Here we define how the time delay will be calculated:\n",
    "tau_tensor = -a1d_tensor * (1.0 - tf.square(e_tensor)) * tf.sin(true_anom + varpi_tensor) / (1.0 + e_tensor*tf.cos(true_anom))\n",
    "\n",
    "# And the design matrix:\n",
    "arg_tensor = 2.0 * np.pi * nu_tensor[None, :] * (times_tensor - tau_tensor)[:, None]\n",
    "D_tensor = tf.concat([tf.cos(arg_tensor), tf.sin(arg_tensor)], axis=1)\n",
    "\n",
    "# Define the linear solve for W_hat:\n",
    "DTD_tensor = tf.matmul(D_tensor, D_tensor, transpose_a=True)\n",
    "DTy_tensor = tf.matmul(D_tensor, dmmags_tensor[:, None], transpose_a=True)\n",
    "W_hat_tensor = tf.linalg.solve(DTD_tensor, DTy_tensor)\n",
    "\n",
    "# Finally, the model and the chi^2 objective:\n",
    "model_tensor = tf.squeeze(tf.matmul(D_tensor, W_hat_tensor))\n",
    "chi2_tensor = tf.reduce_sum(tf.square(dmmags_tensor - model_tensor)) * tf.exp(-log_sigma2_tensor)\n",
    "chi2_tensor += len(times) * log_sigma2_tensor\n",
    "\n",
    "# NOW THE RVs:\n",
    "rv_time_tensor = tf.placeholder(T)\n",
    "rv_tensor = tf.placeholder(T)\n",
    "rv_err_tensor = tf.placeholder(T)\n",
    "\n",
    "# Solve Kepler's equation for the RVs\n",
    "rv_mean_anom = (2.0 * np.pi * (rv_time_tensor - tp_tensor) / porb_tensor)\n",
    "rv_ecc_anom = kepler(rv_mean_anom, e_tensor)\n",
    "rv_true_anom = 2.0 * tf.atan2(tf.sqrt(1.0+e_tensor)*tf.tan(0.5*rv_ecc_anom), tf.sqrt(1.0-e_tensor) + tf.zeros_like(rv_time_tensor))\n",
    "\n",
    "# Here we define how the RV will be calculated:\n",
    "vrad_tensor = -2.0 * np.pi * (a1d_tensor / porb_tensor) * (1/tf.sqrt(1.0 - tf.square(e_tensor))) * (tf.cos(rv_true_anom + varpi_tensor) + e_tensor*tf.cos(varpi_tensor))\n",
    "\"\"\"\n",
    "You were right on the money. The problem was that vrad_tensor was being multiplied by c before\n",
    "the systemic velocity was added. \n",
    "\"\"\"\n",
    "vrad_tensor += gammav_tensor\n",
    "\"\"\"\n",
    "Also c = 299792 km/s now? What are we, engineers?\n",
    "\"\"\"\n",
    "vrad_tensor *= 299792.458  # c in km/s\n",
    "\n",
    "rv_sig2 = tf.square(rv_err_tensor) + tf.exp(log_rv_sigma2_tensor)\n",
    "chi = tf.square(rv_tensor - vrad_tensor) / rv_sig2 + tf.log(rv_sig2)\n",
    "chi2_tensor += tf.reduce_sum(chi)\n",
    "\n",
    "var_list = [\n",
    "    tp_tensor, e_param_tensor, a1d_tensor, varpi_tensor, log_rv_sigma2_tensor, log_sigma2_tensor, gammav_tensor\n",
    "]\n",
    "opt = tf.contrib.opt.ScipyOptimizerInterface(chi2_tensor, var_list=var_list)\n",
    "\n",
    "init = tf.global_variables_initializer()\n",
    "sess.run(init)"
   ]
  },
  {
   "cell_type": "code",
   "execution_count": 10,
   "metadata": {},
   "outputs": [
    {
     "data": {
      "text/plain": [
       "1141387.760862698"
      ]
     },
     "execution_count": 10,
     "metadata": {},
     "output_type": "execute_result"
    }
   ],
   "source": [
    "feed_dict = {\n",
    "    times_tensor: times,\n",
    "    dmmags_tensor: dmmags,\n",
    "    rv_time_tensor: rv_JD,\n",
    "    rv_tensor: rv_RV,\n",
    "    rv_err_tensor: rv_err,\n",
    "}\n",
    "\n",
    "sess.run(chi2_tensor, feed_dict=feed_dict)"
   ]
  },
  {
   "cell_type": "code",
   "execution_count": 11,
   "metadata": {},
   "outputs": [
    {
     "name": "stdout",
     "output_type": "stream",
     "text": [
      "INFO:tensorflow:Optimization terminated with:\n",
      "  Message: b'CONVERGENCE: REL_REDUCTION_OF_F_<=_FACTR*EPSMCH'\n",
      "  Objective function value: 251007.088878\n",
      "  Number of iterations: 19\n",
      "  Number of functions evaluations: 28\n",
      "INFO:tensorflow:Optimization terminated with:\n",
      "  Message: b'CONVERGENCE: REL_REDUCTION_OF_F_<=_FACTR*EPSMCH'\n",
      "  Objective function value: 245560.784470\n",
      "  Number of iterations: 16\n",
      "  Number of functions evaluations: 22\n",
      "INFO:tensorflow:Optimization terminated with:\n",
      "  Message: b'CONVERGENCE: REL_REDUCTION_OF_F_<=_FACTR*EPSMCH'\n",
      "  Objective function value: 245560.784470\n",
      "  Number of iterations: 1\n",
      "  Number of functions evaluations: 3\n"
     ]
    }
   ],
   "source": [
    "for i in range(3):\n",
    "    opt.minimize(sess, feed_dict=feed_dict)"
   ]
  },
  {
   "cell_type": "code",
   "execution_count": 12,
   "metadata": {},
   "outputs": [
    {
     "data": {
      "text/plain": [
       "245560.78447038928"
      ]
     },
     "execution_count": 12,
     "metadata": {},
     "output_type": "execute_result"
    }
   ],
   "source": [
    "sess.run(chi2_tensor, feed_dict=feed_dict)"
   ]
  },
  {
   "cell_type": "code",
   "execution_count": 13,
   "metadata": {},
   "outputs": [
    {
     "data": {
      "image/png": "[encoded data removed]",
      "text/plain": [
       "<Figure size 900x600 with 1 Axes>"
      ]
     },
     "metadata": {},
     "output_type": "display_data"
    }
   ],
   "source": [
    "rv_time_test = np.sort(np.linspace(rv_JD.min(), rv_JD.max(), 5000) % porb)\n",
    "vrad_test = sess.run(vrad_tensor, feed_dict={rv_time_tensor: rv_time_test})\n",
    "\n",
    "plt.errorbar((rv_JD % porb)/porb,rv_RV,rv_err,fmt=\".\",label='RV obs')\n",
    "plt.plot(rv_time_test/porb, vrad_test,label='RV th')\n",
    "plt.xlabel(\"Orbital phase\")\n",
    "plt.ylabel(\"RV (km/s)\")\n",
    "plt.title(\"KIC\"+str(kicid) + \": Phase-folded RV curve\")\n",
    "plt.legend()\n",
    "plt.show()"
   ]
  },
  {
   "cell_type": "code",
   "execution_count": 14,
   "metadata": {},
   "outputs": [
    {
     "name": "stdout",
     "output_type": "stream",
     "text": [
      "Name              kic6780873\n",
      "Porb                 9.15471\n",
      "Porb_sig_p          0.000259\n",
      "Porb_sig_m           0.00031\n",
      "a1sini/c             16.2778\n",
      "a1sini/c_sig_p      0.041959\n",
      "a1sini/c_sig_m      0.044592\n",
      "e                    0.00036\n",
      "e_sig_p             0.000554\n",
      "e_sig_m             0.000239\n",
      "phip                0.970692\n",
      "phip_sig_p          0.021351\n",
      "phip_sig_m          0.021152\n",
      "varpi                4.84572\n",
      "varpi_sig_p         0.118095\n",
      "varpi_sig_m         0.113337\n",
      "f(M)Msun           0.0552565\n",
      "f(M)Msun_sig_p     0.0004273\n",
      "f(M)Msun_sig_m     0.0004541\n",
      "gradient            0.002045\n",
      "grad_sig_p          0.021254\n",
      "grad_sig_m          0.023478\n",
      "t_p                  54974.7\n",
      "t_p_sig_p           0.195462\n",
      "t_p_sig_m           0.193641\n",
      "K1_ms                38768.3\n",
      "K1_ms_sig_p             57.8\n",
      "K1_ms_sig_m             61.7\n",
      "Name: 0, dtype: object\n"
     ]
    }
   ],
   "source": [
    "print(orb_params)"
   ]
  },
  {
   "cell_type": "markdown",
   "metadata": {},
   "source": [
    "**Nice!**"
   ]
  },
  {
   "cell_type": "code",
   "execution_count": 15,
   "metadata": {},
   "outputs": [
    {
     "data": {
      "text/plain": [
       "12.234278455371847"
      ]
     },
     "execution_count": 15,
     "metadata": {},
     "output_type": "execute_result"
    }
   ],
   "source": [
    "sess.run(gammav_tensor)[0]*299792.458\n",
    "# Seems very low for a systemic velocity. Maybe i'm scaling it wrong?\n",
    "## Nah, all good - Simon."
   ]
  },
  {
   "cell_type": "code",
   "execution_count": null,
   "metadata": {},
   "outputs": [],
   "source": []
  }
 ],
 "metadata": {
  "kernelspec": {
   "display_name": "Python 3",
   "language": "python",
   "name": "python3"
  },
  "language_info": {
   "codemirror_mode": {
    "name": "ipython",
    "version": 3
   },
   "file_extension": ".py",
   "mimetype": "text/x-python",
   "name": "python",
   "nbconvert_exporter": "python",
   "pygments_lexer": "ipython3",
   "version": "3.6.1"
  }
 },
 "nbformat": 4,
 "nbformat_minor": 2
}
