{
 "cells": [
  {
   "cell_type": "code",
   "execution_count": 1,
   "metadata": {
    "collapsed": true
   },
   "outputs": [],
   "source": [
    "import matplotlib.pyplot as plt\n",
    "import numpy as np"
   ]
  },
  {
   "cell_type": "code",
   "execution_count": 2,
   "metadata": {},
   "outputs": [],
   "source": [
    "# equation for RV(t), where f is the true anomaly and is a function of time.\n",
    "# Note a1 is actually a1sini. Should have the same units as the orbital period, p (usually in days)\n",
    "def rad_vel(a1,p,e,varpi,f):\n",
    "    return -2 * np.pi * (a1/p) * (1/np.sqrt(1-e**2)) * (np.cos(f+varpi) + e*np.cos(varpi))"
   ]
  },
  {
   "cell_type": "markdown",
   "metadata": {},
   "source": [
    "Simon is going to provide some RV data and plot the time delay and RV for a binary.\n",
    "\n",
    "This might not happen until Sunday (Sydney time)."
   ]
  },
  {
   "cell_type": "code",
   "execution_count": 3,
   "metadata": {},
   "outputs": [],
   "source": [
    "kicid = 6780873\n",
    "\n",
    "data = np.loadtxt(f\"data/kic{kicid}_lc.txt\")"
   ]
  },
  {
   "cell_type": "code",
   "execution_count": 4,
   "metadata": {
    "collapsed": true
   },
   "outputs": [],
   "source": [
    "# load the RV data. They have the same time format (JD-2400000) as the light curve.\n",
    "rvs = np.loadtxt(f\"data/kic{kicid}_JDrv.txt\",delimiter=\",\")"
   ]
  },
  {
   "cell_type": "code",
   "execution_count": 5,
   "metadata": {},
   "outputs": [
    {
     "data": {
      "text/plain": [
       "array([  5.65268571e+04,   8.90000000e+00,   3.00000000e-01])"
      ]
     },
     "execution_count": 5,
     "metadata": {},
     "output_type": "execute_result"
    }
   ],
   "source": [
    "# rvs are in the format [[JD, RV, uncertainty]]\n",
    "rvs[0]"
   ]
  },
  {
   "cell_type": "code",
   "execution_count": null,
   "metadata": {
    "collapsed": true
   },
   "outputs": [],
   "source": []
  }
 ],
 "metadata": {
  "kernelspec": {
   "display_name": "Python 3",
   "language": "python",
   "name": "python3"
  },
  "language_info": {
   "codemirror_mode": {
    "name": "ipython",
    "version": 3
   },
   "file_extension": ".py",
   "mimetype": "text/x-python",
   "name": "python",
   "nbconvert_exporter": "python",
   "pygments_lexer": "ipython3",
   "version": "3.6.3"
  }
 },
 "nbformat": 4,
 "nbformat_minor": 2
}
