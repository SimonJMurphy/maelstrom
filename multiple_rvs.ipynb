{
 "cells": [
  {
   "cell_type": "markdown",
   "metadata": {},
   "source": [
    "# Radial Velocities"
   ]
  },
  {
   "cell_type": "code",
   "execution_count": 1,
   "metadata": {},
   "outputs": [],
   "source": [
    "%matplotlib inline\n",
    "%config IPython.matplotlib.backend = \"retina\"\n",
    "from matplotlib import rcParams\n",
    "rcParams[\"figure.dpi\"] = 150\n",
    "rcParams[\"savefig.dpi\"] = 150"
   ]
  },
  {
   "cell_type": "code",
   "execution_count": 2,
   "metadata": {},
   "outputs": [
    {
     "name": "stderr",
     "output_type": "stream",
     "text": [
      "/home/daniel/anaconda3/lib/python3.6/site-packages/h5py/__init__.py:36: FutureWarning: Conversion of the second argument of issubdtype from `float` to `np.floating` is deprecated. In future, it will be treated as `np.float64 == np.dtype(float).type`.\n",
      "  from ._conv import register_converters as _register_converters\n"
     ]
    }
   ],
   "source": [
    "import matplotlib.pyplot as plt\n",
    "import numpy as np\n",
    "import pandas as pd\n",
    "import tensorflow as tf\n",
    "import glob\n",
    "from maelstrom.kepler import kepler"
   ]
  },
  {
   "cell_type": "markdown",
   "metadata": {},
   "source": [
    "Read in the light curve, the frequencies, and then the RV data."
   ]
  },
  {
   "cell_type": "code",
   "execution_count": 3,
   "metadata": {},
   "outputs": [],
   "source": [
    "kicid = 8311110\n",
    "\n",
    "times, dmag = np.loadtxt(f\"data/kic{kicid}_lc.txt\",usecols=(0,1)).T\n",
    "\n",
    "# Subtract midpoint\n",
    "time_mid = (times[0] + times[-1]) / 2.\n",
    "times -= time_mid\n",
    "\n",
    "# mmags\n",
    "dmmags = dmag * 1000. \n",
    "\n",
    "nu_arr = np.loadtxt(f\"data/kic{kicid}_metadata.csv\", delimiter=\",\", skiprows=1)[::6]"
   ]
  },
  {
   "cell_type": "markdown",
   "metadata": {},
   "source": [
    "It might be cleaner just to use n-d numpy arrays (or better yet, inherit from Maelstrom class) - but with an object i won't need to use matrix indexing "
   ]
  },
  {
   "cell_type": "code",
   "execution_count": 4,
   "metadata": {},
   "outputs": [],
   "source": [
    "class RadialVelocity(object):\n",
    "    def __init__(self, time, velocity, err=None, meta={}):\n",
    "        self.time = time\n",
    "        self.vel = velocity\n",
    "        if err is not None:    # this if looks unintuitive but python doesn't like 'if not err'\n",
    "            self.err = err\n",
    "        self.meta = meta\n",
    "\n",
    "        T=tf.float64\n",
    "        self.time_tensor = tf.placeholder(T)\n",
    "        self.rv_tensor = tf.placeholder(T)\n",
    "        self.err_tensor = tf.placeholder(T)"
   ]
  },
  {
   "cell_type": "code",
   "execution_count": 5,
   "metadata": {},
   "outputs": [],
   "source": [
    "rvs = []\n",
    "# Make sure glob is sorted to read in alphabetically\n",
    "# Glob also has to be * and not ?, otherwise it won't pick up kicid_JDrv data (i.e. single RV)\n",
    "for file in sorted(glob.glob(f\"data/kic{kicid}*_JDrv.txt\")):\n",
    "    rv = RadialVelocity(*np.loadtxt(file, delimiter=\",\", usecols=(0,1,2)).T, file[15:-9])\n",
    "    rv.time -= time_mid\n",
    "    rvs.append(rv)"
   ]
  },
  {
   "cell_type": "code",
   "execution_count": 6,
   "metadata": {},
   "outputs": [
    {
     "data": {
      "text/plain": [
       "'b'"
      ]
     },
     "execution_count": 6,
     "metadata": {},
     "output_type": "execute_result"
    }
   ],
   "source": [
    "rvs[1].meta"
   ]
  },
  {
   "cell_type": "code",
   "execution_count": 7,
   "metadata": {},
   "outputs": [
    {
     "data": {
      "image/png": "[encoded data removed]",
      "text/plain": [
       "<matplotlib.figure.Figure at 0x7fb022575ef0>"
      ]
     },
     "metadata": {},
     "output_type": "display_data"
    }
   ],
   "source": [
    "# plot just the RVs for now\n",
    "for rv in rvs:\n",
    "    plt.errorbar(rv.time, rv.vel, rv.err, fmt=\"o\", label='RV'+rv.meta)\n",
    "plt.xlabel(f\"reduced JD - {np.round(time_mid,2)}\")\n",
    "plt.ylabel(\"RV (km/s)\")\n",
    "plt.legend()\n",
    "plt.show()"
   ]
  },
  {
   "cell_type": "code",
   "execution_count": 8,
   "metadata": {},
   "outputs": [],
   "source": [
    "# read in the table of orbits\n",
    "orbits = pd.read_csv(f\"data/orbits.csv\").rename(columns = lambda x: x.strip())\n",
    "\n",
    "orb_params = orbits[orbits.Name == f\"kic{kicid}\"].iloc[0]\n",
    "\n",
    "# this is basically cheating\n",
    "porb = orb_params.Porb\n",
    "a1 = orb_params[\"a1sini/c\"]\n",
    "tp = orb_params[\"t_p\"] - time_mid\n",
    "e = orb_params[\"e\"]\n",
    "e_param = np.log(e) - np.log(1.0 - e)\n",
    "\n",
    "for rv in rvs:\n",
    "    rv.varpi = orb_params[\"varpi\"]\n",
    "    rv.ad = a1/86400.0"
   ]
  },
  {
   "cell_type": "code",
   "execution_count": 9,
   "metadata": {},
   "outputs": [],
   "source": [
    "sess = tf.InteractiveSession()"
   ]
  },
  {
   "cell_type": "code",
   "execution_count": 10,
   "metadata": {},
   "outputs": [],
   "source": [
    "T = tf.float64\n",
    "\n",
    "# First the variables that we might want to optimize:\n",
    "porb_tensor = tf.Variable(porb, dtype=T)\n",
    "tp_tensor = tf.Variable(tp, dtype=T)\n",
    "nu_tensor = tf.Variable(nu_arr, dtype=T)\n",
    "e_param_tensor = tf.Variable(e_param, dtype=T)  # This forces the ecc to be between 0 and 1\n",
    "e_tensor = 1.0 / (1.0 + tf.exp(-e_param_tensor))\n",
    "log_sigma2_tensor = tf.Variable(0.0, dtype=T)  # Variance from observational uncertainties and model misspecification\n",
    "gammav_tensor = tf.Variable(np.mean(rvs[0].vel) / 299792.458, dtype=T)\n",
    "\n",
    "for rv in rvs:\n",
    "    rv.varpi_tensor = tf.Variable(rv.varpi, dtype=T)\n",
    "    rv.ad_tensor = tf.Variable(rv.ad, dtype=T)\n",
    "    rv.log_rv_sigma2_tensor = tf.Variable(np.log(np.median(rv.err)), dtype=T)  # RV jitter\n",
    "\n",
    "# These are some placeholders for the data:\n",
    "times_tensor = tf.placeholder(T, times.shape)\n",
    "dmmags_tensor = tf.placeholder(T, dmmags.shape)\n",
    "\n",
    "# Solve Kepler's equation\n",
    "mean_anom = 2.0 * np.pi * (times_tensor - tp_tensor) / porb_tensor\n",
    "ecc_anom = kepler(mean_anom, e_tensor)\n",
    "true_anom = 2.0 * tf.atan2(tf.sqrt(1.0+e_tensor)*tf.tan(0.5*ecc_anom),tf.sqrt(1.0-e_tensor) + tf.zeros_like(times_tensor))"
   ]
  },
  {
   "cell_type": "markdown",
   "metadata": {},
   "source": [
    "Calculate the model and likelihood for the time delays"
   ]
  },
  {
   "cell_type": "code",
   "execution_count": 11,
   "metadata": {},
   "outputs": [],
   "source": [
    "# Here we define how the time delay will be calculated:\n",
    "# For now, assume only kic_a star is pulsating:\n",
    "tau_tensor = -rvs[0].ad * (1.0 - tf.square(e_tensor)) * tf.sin(true_anom + rvs[0].varpi) / (1.0 + e_tensor*tf.cos(true_anom))\n",
    "\n",
    "# And the design matrix:\n",
    "arg_tensor = 2.0 * np.pi * nu_tensor[None, :] * (times_tensor - tau_tensor)[:, None]\n",
    "D_tensor = tf.concat([tf.cos(arg_tensor), tf.sin(arg_tensor)], axis=1)\n",
    "\n",
    "# Define the linear solve for W_hat:\n",
    "DTD_tensor = tf.matmul(D_tensor, D_tensor, transpose_a=True)\n",
    "DTy_tensor = tf.matmul(D_tensor, dmmags_tensor[:, None], transpose_a=True)\n",
    "W_hat_tensor = tf.linalg.solve(DTD_tensor, DTy_tensor)\n",
    "\n",
    "# Finally, the model and the chi^2 objective:\n",
    "model_tensor = tf.squeeze(tf.matmul(D_tensor, W_hat_tensor))\n",
    "chi2_tensor = tf.reduce_sum(tf.square(dmmags_tensor - model_tensor)) * tf.exp(-log_sigma2_tensor)\n",
    "chi2_tensor += len(times) * log_sigma2_tensor\n",
    "\n",
    "# Dict holds both the tf variables and their respective bounds\n",
    "var_dict = {\n",
    "    porb_tensor: (0, None),\n",
    "    tp_tensor: (None, None),\n",
    "    e_param_tensor: (None, None),\n",
    "    log_sigma2_tensor: (None, None),\n",
    "    gammav_tensor: (None, None)\n",
    "}\n",
    "\n",
    "for rv in rvs:\n",
    "    # Solve Kepler's equation for the RVs\n",
    "    rv.mean_anom = (2.0 * np.pi * (rv.time_tensor - tp_tensor) / porb_tensor)\n",
    "    rv.ecc_anom = kepler(rv.mean_anom, e_tensor)\n",
    "    rv.true_anom = 2.0 * tf.atan2(tf.sqrt(1.0+e_tensor)*tf.tan(0.5*rv.ecc_anom), tf.sqrt(1.0-e_tensor) + tf.zeros_like(rv.time_tensor))\n",
    "\n",
    "    # Here we define how the RV will be calculated:\n",
    "    rv.vrad_tensor = -2.0 * np.pi * (rv.ad_tensor / porb_tensor) * (1/tf.sqrt(1.0 - tf.square(e_tensor))) * (tf.cos(rv.true_anom + rvs[0].varpi_tensor) + e_tensor*tf.cos(rvs[0].varpi_tensor))\n",
    "    rv.vrad_tensor += gammav_tensor\n",
    "    rv.vrad_tensor *= 299792.458  # c in km/s\n",
    "\n",
    "    rv.sig2 = tf.square(rv.err_tensor) + tf.exp(rv.log_rv_sigma2_tensor)\n",
    "    rv.chi = tf.square(rv.rv_tensor - rv.vrad_tensor) / rv.sig2 + tf.log(rv.sig2)\n",
    "    chi2_tensor += tf.reduce_sum(rv.chi)\n",
    "    \n",
    "    var_dict.update({\n",
    "        rv.log_rv_sigma2_tensor: (None, None)\n",
    "    })\n",
    "\n",
    "var_dict.update({\n",
    "    rvs[0].ad_tensor: (0, None),\n",
    "    rvs[1].ad_tensor: (None, 0),\n",
    "    rvs[0].varpi_tensor: (None, None)\n",
    "})\n",
    "\n",
    "init = tf.global_variables_initializer()\n",
    "sess.run(init)"
   ]
  },
  {
   "cell_type": "code",
   "execution_count": 12,
   "metadata": {},
   "outputs": [],
   "source": [
    "feed_dict = {\n",
    "    times_tensor: times,\n",
    "    dmmags_tensor: dmmags\n",
    "}\n",
    "\n",
    "for rv in rvs:\n",
    "    feed_dict.update({\n",
    "        rv.time_tensor: rv.time,\n",
    "        rv.rv_tensor: rv.vel,\n",
    "        rv.err_tensor: rv.err,\n",
    "    })"
   ]
  },
  {
   "cell_type": "code",
   "execution_count": 13,
   "metadata": {},
   "outputs": [
    {
     "data": {
      "text/plain": [
       "157517.42309475248"
      ]
     },
     "execution_count": 13,
     "metadata": {},
     "output_type": "execute_result"
    }
   ],
   "source": [
    "sess.run(chi2_tensor, feed_dict=feed_dict)"
   ]
  },
  {
   "cell_type": "code",
   "execution_count": 14,
   "metadata": {},
   "outputs": [
    {
     "name": "stdout",
     "output_type": "stream",
     "text": [
      "WARNING:tensorflow:From /home/daniel/anaconda3/lib/python3.6/site-packages/tensorflow/contrib/learn/python/learn/datasets/base.py:198: retry (from tensorflow.contrib.learn.python.learn.datasets.base) is deprecated and will be removed in a future version.\n",
      "Instructions for updating:\n",
      "Use the retry module or similar alternatives.\n",
      "INFO:tensorflow:Optimization terminated with:\n",
      "  Message: b'CONVERGENCE: REL_REDUCTION_OF_F_<=_FACTR*EPSMCH'\n",
      "  Objective function value: 97768.491361\n",
      "  Number of iterations: 12\n",
      "  Number of functions evaluations: 24\n",
      "INFO:tensorflow:Optimization terminated with:\n",
      "  Message: b'CONVERGENCE: REL_REDUCTION_OF_F_<=_FACTR*EPSMCH'\n",
      "  Objective function value: 97768.491268\n",
      "  Number of iterations: 1\n",
      "  Number of functions evaluations: 3\n",
      "INFO:tensorflow:Optimization terminated with:\n",
      "  Message: b'CONVERGENCE: REL_REDUCTION_OF_F_<=_FACTR*EPSMCH'\n",
      "  Objective function value: 97768.491175\n",
      "  Number of iterations: 1\n",
      "  Number of functions evaluations: 3\n"
     ]
    }
   ],
   "source": [
    "opt = tf.contrib.opt.ScipyOptimizerInterface(chi2_tensor, var_list=list(var_dict.keys()),var_to_bounds=var_dict)\n",
    "for i in range(3):\n",
    "    opt.minimize(sess, feed_dict=feed_dict)"
   ]
  },
  {
   "cell_type": "code",
   "execution_count": 15,
   "metadata": {},
   "outputs": [
    {
     "data": {
      "image/png": "[encoded data removed]",
      "text/plain": [
       "<matplotlib.figure.Figure at 0x7fb0225a10b8>"
      ]
     },
     "metadata": {},
     "output_type": "display_data"
    }
   ],
   "source": [
    "for rv in rvs:\n",
    "    rv_phi_test = np.sort(np.linspace(0, sess.run(porb_tensor), 5000) % sess.run(porb_tensor))\n",
    "    vrad = sess.run(rv.vrad_tensor, feed_dict={rv.time_tensor: rv_phi_test})\n",
    "\n",
    "    plt.errorbar((rv.time % sess.run(porb_tensor))/sess.run(porb_tensor),rv.vel,rv.err,fmt=\".\",label='RV'+rv.meta+' obs')\n",
    "    plt.plot(rv_phi_test/sess.run(porb_tensor), vrad,label='RV' +rv.meta+' th')\n",
    "\n",
    "plt.xlabel(\"Orbital phase\")\n",
    "plt.ylabel(\"RV (km/s)\")\n",
    "plt.title(\"KIC\"+str(kicid) + \": Phase-folded RV curve, P = \" + f\"{np.round(sess.run(porb_tensor),3)}\")\n",
    "plt.legend()\n",
    "plt.show()"
   ]
  },
  {
   "cell_type": "code",
   "execution_count": 16,
   "metadata": {},
   "outputs": [
    {
     "name": "stdout",
     "output_type": "stream",
     "text": [
      "e: 0.234\n",
      "porb: 156.278\n",
      "tp: 55112.711\n",
      "varpi = 5.81 s\n",
      "asini/c_a: 107.803\n",
      "asini/c_b: -269.964\n"
     ]
    }
   ],
   "source": [
    "print(f\"e: {np.round(sess.run(e_tensor),3)}\")\n",
    "print(f\"porb: {np.round(sess.run(porb_tensor),3)}\")\n",
    "print(f\"tp: {np.round(sess.run(tp_tensor)+time_mid,3)}\")\n",
    "print(f\"varpi = {np.round(sess.run(rvs[0].varpi_tensor),3)} s\")\n",
    "for rv in rvs:\n",
    "    print(\"asini/c_\"+rv.meta+ \": \" + str(np.round(sess.run(rv.ad_tensor)*86400.,3)))"
   ]
  },
  {
   "cell_type": "code",
   "execution_count": 17,
   "metadata": {},
   "outputs": [
    {
     "name": "stdout",
     "output_type": "stream",
     "text": [
      "Name                   kic8311110\n",
      "Porb                      156.307\n",
      "Porb_sig_p               0.126687\n",
      "Porb_sig_m               0.128791\n",
      "a1sini/c                  174.009\n",
      "a1sini/c_sig_p             2.7666\n",
      "a1sini/c_sig_m            2.70491\n",
      "e                        0.234021\n",
      "e_sig_p                   0.02975\n",
      "e_sig_m                   0.03037\n",
      "phip                     0.987294\n",
      "phip_sig_p               0.016272\n",
      "phip_sig_m               0.020086\n",
      "varpi                     5.76828\n",
      "varpi_sig_p              0.098538\n",
      "varpi_sig_m              0.121139\n",
      "f(M)Msun                 0.231551\n",
      "f(M)Msun_sig_p           0.011051\n",
      "f(M)Msun_sig_m          0.0108047\n",
      "gradient                -0.009634\n",
      "grad_sig_p               0.004132\n",
      "grad_sig_m               0.004138\n",
      "t_p                       55112.7\n",
      "t_p_sig_p                 2.54663\n",
      "t_p_sig_m                 3.14217\n",
      "K1_ms                     23598.8\n",
      "K1_ms_sig_p                 324.4\n",
      "K1_ms_sig_m                 314.2\n",
      "median_segment_size           NaN\n",
      "Name: 238, dtype: object\n"
     ]
    }
   ],
   "source": [
    "print(orb_params)"
   ]
  },
  {
   "cell_type": "code",
   "execution_count": null,
   "metadata": {},
   "outputs": [],
   "source": []
  }
 ],
 "metadata": {
  "kernelspec": {
   "display_name": "Python 3",
   "language": "python",
   "name": "python3"
  },
  "language_info": {
   "codemirror_mode": {
    "name": "ipython",
    "version": 3
   },
   "file_extension": ".py",
   "mimetype": "text/x-python",
   "name": "python",
   "nbconvert_exporter": "python",
   "pygments_lexer": "ipython3",
   "version": "3.6.4"
  }
 },
 "nbformat": 4,
 "nbformat_minor": 2
}
